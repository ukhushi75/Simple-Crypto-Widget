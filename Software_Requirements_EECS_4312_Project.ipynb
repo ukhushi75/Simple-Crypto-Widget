{
  "nbformat": 4,
  "nbformat_minor": 0,
  "metadata": {
    "colab": {
      "provenance": []
    },
    "kernelspec": {
      "name": "python3",
      "display_name": "Python 3"
    },
    "language_info": {
      "name": "python"
    }
  },
  "cells": [
    {
      "cell_type": "code",
      "execution_count": 2,
      "metadata": {
        "colab": {
          "base_uri": "https://localhost:8080/"
        },
        "id": "MahlyaMe3S7F",
        "outputId": "46d00a10-1fab-479c-ff4a-70e16478b985"
      },
      "outputs": [
        {
          "output_type": "stream",
          "name": "stdout",
          "text": [
            "Collecting google-play-scraper\n",
            "  Downloading google_play_scraper-1.2.6-py3-none-any.whl (28 kB)\n",
            "Installing collected packages: google-play-scraper\n",
            "Successfully installed google-play-scraper-1.2.6\n"
          ]
        }
      ],
      "source": [
        "pip install google-play-scraper\n"
      ]
    },
    {
      "cell_type": "markdown",
      "source": [
        "TASK 1:  GATHERING REVIEWS"
      ],
      "metadata": {
        "id": "OE2f01yeMFor"
      }
    },
    {
      "cell_type": "code",
      "source": [
        "from google_play_scraper import reviews_all, Sort\n",
        "import pandas as pd\n",
        "import numpy as np\n",
        "import csv"
      ],
      "metadata": {
        "id": "3YGYPpjzPMpS"
      },
      "execution_count": 74,
      "outputs": []
    },
    {
      "cell_type": "code",
      "source": [
        "# we now gather reviews and append them to the csv file\n",
        "def gather_reviews_and_append(package_name, csv_filename):\n",
        "    with open(csv_filename, 'a', newline='') as file:\n",
        "        writer = csv.writer(file)\n",
        "\n",
        "        reviews = reviews_all(\n",
        "            package_name,\n",
        "            sleep_milliseconds=0,\n",
        "            lang='en',\n",
        "            country='us',\n",
        "            sort=Sort.NEWEST\n",
        "        )\n",
        "\n",
        "        for review in reviews:\n",
        "            writer.writerow([package_name, review['userName'], review['content'], review['score']])\n",
        "\n",
        "# applications info with packages and csv files names\n",
        "apps_info = [\n",
        "    (\"com.brentpanther.bitcoinwidget\", \"/content/com.brentpanther.bitcoinwidget.csv\"), #original App (Bitcoin widget)\n",
        "    (\"com.coinmarketcap.android\", \"/content/com.brentpanther.bitcoinwidget.csv\"), #competitor app 1 (CoinMarketCap)\n",
        "    (\"co.mona.android\", \"/content/com.brentpanther.bitcoinwidget.csv\"), #competitor app 2 (Crypto.com)\n",
        "    (\"st.brothas.mtgoxwidget\", \"/content/com.brentpanther.bitcoinwidget.csv\"), #similar app 1 (Bitcoin Ticker)\n",
        "    (\"com.blockfolio.cryptotracker\", \"/content/com.brentpanther.bitcoinwidget.csv\") #similar app 2 (Blockfolio)\n",
        "]\n",
        "\n",
        "for package_name, csv_filename in apps_info:\n",
        "    gather_reviews_and_append(package_name, csv_filename)\n",
        "\n",
        "# Display the result\n",
        "df = pd.read_csv(\"/content/com.brentpanther.bitcoinwidget.csv\")\n",
        "display(df)"
      ],
      "metadata": {
        "id": "LVKYSoEA37b7",
        "colab": {
          "base_uri": "https://localhost:8080/",
          "height": 423
        },
        "outputId": "6254c712-24cb-4825-dcdc-47484b12a1c3"
      },
      "execution_count": 75,
      "outputs": [
        {
          "output_type": "display_data",
          "data": {
            "text/plain": [
              "      com.brentpanther.bitcoinwidget        Graham Sellars  \\\n",
              "0     com.brentpanther.bitcoinwidget             Alex Wolf   \n",
              "1     com.brentpanther.bitcoinwidget            Appolo 700   \n",
              "2     com.brentpanther.bitcoinwidget            Dnb Barman   \n",
              "3     com.brentpanther.bitcoinwidget                Kody P   \n",
              "4     com.brentpanther.bitcoinwidget            IMRAN KHAN   \n",
              "...                              ...                   ...   \n",
              "4372    com.blockfolio.cryptotracker          leony agusta   \n",
              "4373    com.blockfolio.cryptotracker  BSHM Lilibeth Lerios   \n",
              "4374    com.blockfolio.cryptotracker               aku lia   \n",
              "4375    com.blockfolio.cryptotracker    Af Coffee (A Prod)   \n",
              "4376    com.blockfolio.cryptotracker          Firda Auliya   \n",
              "\n",
              "     Could use an alert for when a currency hits a certain price but apart from that does a very good job  \\\n",
              "0                                                    ok                                                     \n",
              "1                      Error again data from coin gecko                                                     \n",
              "2                                      simple and clean                                                     \n",
              "3     This app is exactly what I'm looking for espec...                                                     \n",
              "4                                                  Good                                                     \n",
              "...                                                 ...                                                     \n",
              "4372  very helpful apps for trading crypto. apps wor...                                                     \n",
              "4373                            Great app. Easy to use.                                                     \n",
              "4374                                               Nice                                                     \n",
              "4375  they really do have nice graphics and detailed...                                                     \n",
              "4376                                        great app!!                                                     \n",
              "\n",
              "      5  \n",
              "0     5  \n",
              "1     1  \n",
              "2     4  \n",
              "3     5  \n",
              "4     5  \n",
              "...  ..  \n",
              "4372  5  \n",
              "4373  5  \n",
              "4374  5  \n",
              "4375  5  \n",
              "4376  5  \n",
              "\n",
              "[4377 rows x 4 columns]"
            ],
            "text/html": [
              "\n",
              "  <div id=\"df-cd7a4014-05e0-47bf-8575-ef5294719c48\" class=\"colab-df-container\">\n",
              "    <div>\n",
              "<style scoped>\n",
              "    .dataframe tbody tr th:only-of-type {\n",
              "        vertical-align: middle;\n",
              "    }\n",
              "\n",
              "    .dataframe tbody tr th {\n",
              "        vertical-align: top;\n",
              "    }\n",
              "\n",
              "    .dataframe thead th {\n",
              "        text-align: right;\n",
              "    }\n",
              "</style>\n",
              "<table border=\"1\" class=\"dataframe\">\n",
              "  <thead>\n",
              "    <tr style=\"text-align: right;\">\n",
              "      <th></th>\n",
              "      <th>com.brentpanther.bitcoinwidget</th>\n",
              "      <th>Graham Sellars</th>\n",
              "      <th>Could use an alert for when a currency hits a certain price but apart from that does a very good job</th>\n",
              "      <th>5</th>\n",
              "    </tr>\n",
              "  </thead>\n",
              "  <tbody>\n",
              "    <tr>\n",
              "      <th>0</th>\n",
              "      <td>com.brentpanther.bitcoinwidget</td>\n",
              "      <td>Alex Wolf</td>\n",
              "      <td>ok</td>\n",
              "      <td>5</td>\n",
              "    </tr>\n",
              "    <tr>\n",
              "      <th>1</th>\n",
              "      <td>com.brentpanther.bitcoinwidget</td>\n",
              "      <td>Appolo 700</td>\n",
              "      <td>Error again data from coin gecko</td>\n",
              "      <td>1</td>\n",
              "    </tr>\n",
              "    <tr>\n",
              "      <th>2</th>\n",
              "      <td>com.brentpanther.bitcoinwidget</td>\n",
              "      <td>Dnb Barman</td>\n",
              "      <td>simple and clean</td>\n",
              "      <td>4</td>\n",
              "    </tr>\n",
              "    <tr>\n",
              "      <th>3</th>\n",
              "      <td>com.brentpanther.bitcoinwidget</td>\n",
              "      <td>Kody P</td>\n",
              "      <td>This app is exactly what I'm looking for espec...</td>\n",
              "      <td>5</td>\n",
              "    </tr>\n",
              "    <tr>\n",
              "      <th>4</th>\n",
              "      <td>com.brentpanther.bitcoinwidget</td>\n",
              "      <td>IMRAN KHAN</td>\n",
              "      <td>Good</td>\n",
              "      <td>5</td>\n",
              "    </tr>\n",
              "    <tr>\n",
              "      <th>...</th>\n",
              "      <td>...</td>\n",
              "      <td>...</td>\n",
              "      <td>...</td>\n",
              "      <td>...</td>\n",
              "    </tr>\n",
              "    <tr>\n",
              "      <th>4372</th>\n",
              "      <td>com.blockfolio.cryptotracker</td>\n",
              "      <td>leony agusta</td>\n",
              "      <td>very helpful apps for trading crypto. apps wor...</td>\n",
              "      <td>5</td>\n",
              "    </tr>\n",
              "    <tr>\n",
              "      <th>4373</th>\n",
              "      <td>com.blockfolio.cryptotracker</td>\n",
              "      <td>BSHM Lilibeth Lerios</td>\n",
              "      <td>Great app. Easy to use.</td>\n",
              "      <td>5</td>\n",
              "    </tr>\n",
              "    <tr>\n",
              "      <th>4374</th>\n",
              "      <td>com.blockfolio.cryptotracker</td>\n",
              "      <td>aku lia</td>\n",
              "      <td>Nice</td>\n",
              "      <td>5</td>\n",
              "    </tr>\n",
              "    <tr>\n",
              "      <th>4375</th>\n",
              "      <td>com.blockfolio.cryptotracker</td>\n",
              "      <td>Af Coffee (A Prod)</td>\n",
              "      <td>they really do have nice graphics and detailed...</td>\n",
              "      <td>5</td>\n",
              "    </tr>\n",
              "    <tr>\n",
              "      <th>4376</th>\n",
              "      <td>com.blockfolio.cryptotracker</td>\n",
              "      <td>Firda Auliya</td>\n",
              "      <td>great app!!</td>\n",
              "      <td>5</td>\n",
              "    </tr>\n",
              "  </tbody>\n",
              "</table>\n",
              "<p>4377 rows × 4 columns</p>\n",
              "</div>\n",
              "    <div class=\"colab-df-buttons\">\n",
              "\n",
              "  <div class=\"colab-df-container\">\n",
              "    <button class=\"colab-df-convert\" onclick=\"convertToInteractive('df-cd7a4014-05e0-47bf-8575-ef5294719c48')\"\n",
              "            title=\"Convert this dataframe to an interactive table.\"\n",
              "            style=\"display:none;\">\n",
              "\n",
              "  <svg xmlns=\"http://www.w3.org/2000/svg\" height=\"24px\" viewBox=\"0 -960 960 960\">\n",
              "    <path d=\"M120-120v-720h720v720H120Zm60-500h600v-160H180v160Zm220 220h160v-160H400v160Zm0 220h160v-160H400v160ZM180-400h160v-160H180v160Zm440 0h160v-160H620v160ZM180-180h160v-160H180v160Zm440 0h160v-160H620v160Z\"/>\n",
              "  </svg>\n",
              "    </button>\n",
              "\n",
              "  <style>\n",
              "    .colab-df-container {\n",
              "      display:flex;\n",
              "      gap: 12px;\n",
              "    }\n",
              "\n",
              "    .colab-df-convert {\n",
              "      background-color: #E8F0FE;\n",
              "      border: none;\n",
              "      border-radius: 50%;\n",
              "      cursor: pointer;\n",
              "      display: none;\n",
              "      fill: #1967D2;\n",
              "      height: 32px;\n",
              "      padding: 0 0 0 0;\n",
              "      width: 32px;\n",
              "    }\n",
              "\n",
              "    .colab-df-convert:hover {\n",
              "      background-color: #E2EBFA;\n",
              "      box-shadow: 0px 1px 2px rgba(60, 64, 67, 0.3), 0px 1px 3px 1px rgba(60, 64, 67, 0.15);\n",
              "      fill: #174EA6;\n",
              "    }\n",
              "\n",
              "    .colab-df-buttons div {\n",
              "      margin-bottom: 4px;\n",
              "    }\n",
              "\n",
              "    [theme=dark] .colab-df-convert {\n",
              "      background-color: #3B4455;\n",
              "      fill: #D2E3FC;\n",
              "    }\n",
              "\n",
              "    [theme=dark] .colab-df-convert:hover {\n",
              "      background-color: #434B5C;\n",
              "      box-shadow: 0px 1px 3px 1px rgba(0, 0, 0, 0.15);\n",
              "      filter: drop-shadow(0px 1px 2px rgba(0, 0, 0, 0.3));\n",
              "      fill: #FFFFFF;\n",
              "    }\n",
              "  </style>\n",
              "\n",
              "    <script>\n",
              "      const buttonEl =\n",
              "        document.querySelector('#df-cd7a4014-05e0-47bf-8575-ef5294719c48 button.colab-df-convert');\n",
              "      buttonEl.style.display =\n",
              "        google.colab.kernel.accessAllowed ? 'block' : 'none';\n",
              "\n",
              "      async function convertToInteractive(key) {\n",
              "        const element = document.querySelector('#df-cd7a4014-05e0-47bf-8575-ef5294719c48');\n",
              "        const dataTable =\n",
              "          await google.colab.kernel.invokeFunction('convertToInteractive',\n",
              "                                                    [key], {});\n",
              "        if (!dataTable) return;\n",
              "\n",
              "        const docLinkHtml = 'Like what you see? Visit the ' +\n",
              "          '<a target=\"_blank\" href=https://colab.research.google.com/notebooks/data_table.ipynb>data table notebook</a>'\n",
              "          + ' to learn more about interactive tables.';\n",
              "        element.innerHTML = '';\n",
              "        dataTable['output_type'] = 'display_data';\n",
              "        await google.colab.output.renderOutput(dataTable, element);\n",
              "        const docLink = document.createElement('div');\n",
              "        docLink.innerHTML = docLinkHtml;\n",
              "        element.appendChild(docLink);\n",
              "      }\n",
              "    </script>\n",
              "  </div>\n",
              "\n",
              "\n",
              "<div id=\"df-e2d8c33a-7530-4ba4-9452-2b5831e2c06f\">\n",
              "  <button class=\"colab-df-quickchart\" onclick=\"quickchart('df-e2d8c33a-7530-4ba4-9452-2b5831e2c06f')\"\n",
              "            title=\"Suggest charts\"\n",
              "            style=\"display:none;\">\n",
              "\n",
              "<svg xmlns=\"http://www.w3.org/2000/svg\" height=\"24px\"viewBox=\"0 0 24 24\"\n",
              "     width=\"24px\">\n",
              "    <g>\n",
              "        <path d=\"M19 3H5c-1.1 0-2 .9-2 2v14c0 1.1.9 2 2 2h14c1.1 0 2-.9 2-2V5c0-1.1-.9-2-2-2zM9 17H7v-7h2v7zm4 0h-2V7h2v10zm4 0h-2v-4h2v4z\"/>\n",
              "    </g>\n",
              "</svg>\n",
              "  </button>\n",
              "\n",
              "<style>\n",
              "  .colab-df-quickchart {\n",
              "      --bg-color: #E8F0FE;\n",
              "      --fill-color: #1967D2;\n",
              "      --hover-bg-color: #E2EBFA;\n",
              "      --hover-fill-color: #174EA6;\n",
              "      --disabled-fill-color: #AAA;\n",
              "      --disabled-bg-color: #DDD;\n",
              "  }\n",
              "\n",
              "  [theme=dark] .colab-df-quickchart {\n",
              "      --bg-color: #3B4455;\n",
              "      --fill-color: #D2E3FC;\n",
              "      --hover-bg-color: #434B5C;\n",
              "      --hover-fill-color: #FFFFFF;\n",
              "      --disabled-bg-color: #3B4455;\n",
              "      --disabled-fill-color: #666;\n",
              "  }\n",
              "\n",
              "  .colab-df-quickchart {\n",
              "    background-color: var(--bg-color);\n",
              "    border: none;\n",
              "    border-radius: 50%;\n",
              "    cursor: pointer;\n",
              "    display: none;\n",
              "    fill: var(--fill-color);\n",
              "    height: 32px;\n",
              "    padding: 0;\n",
              "    width: 32px;\n",
              "  }\n",
              "\n",
              "  .colab-df-quickchart:hover {\n",
              "    background-color: var(--hover-bg-color);\n",
              "    box-shadow: 0 1px 2px rgba(60, 64, 67, 0.3), 0 1px 3px 1px rgba(60, 64, 67, 0.15);\n",
              "    fill: var(--button-hover-fill-color);\n",
              "  }\n",
              "\n",
              "  .colab-df-quickchart-complete:disabled,\n",
              "  .colab-df-quickchart-complete:disabled:hover {\n",
              "    background-color: var(--disabled-bg-color);\n",
              "    fill: var(--disabled-fill-color);\n",
              "    box-shadow: none;\n",
              "  }\n",
              "\n",
              "  .colab-df-spinner {\n",
              "    border: 2px solid var(--fill-color);\n",
              "    border-color: transparent;\n",
              "    border-bottom-color: var(--fill-color);\n",
              "    animation:\n",
              "      spin 1s steps(1) infinite;\n",
              "  }\n",
              "\n",
              "  @keyframes spin {\n",
              "    0% {\n",
              "      border-color: transparent;\n",
              "      border-bottom-color: var(--fill-color);\n",
              "      border-left-color: var(--fill-color);\n",
              "    }\n",
              "    20% {\n",
              "      border-color: transparent;\n",
              "      border-left-color: var(--fill-color);\n",
              "      border-top-color: var(--fill-color);\n",
              "    }\n",
              "    30% {\n",
              "      border-color: transparent;\n",
              "      border-left-color: var(--fill-color);\n",
              "      border-top-color: var(--fill-color);\n",
              "      border-right-color: var(--fill-color);\n",
              "    }\n",
              "    40% {\n",
              "      border-color: transparent;\n",
              "      border-right-color: var(--fill-color);\n",
              "      border-top-color: var(--fill-color);\n",
              "    }\n",
              "    60% {\n",
              "      border-color: transparent;\n",
              "      border-right-color: var(--fill-color);\n",
              "    }\n",
              "    80% {\n",
              "      border-color: transparent;\n",
              "      border-right-color: var(--fill-color);\n",
              "      border-bottom-color: var(--fill-color);\n",
              "    }\n",
              "    90% {\n",
              "      border-color: transparent;\n",
              "      border-bottom-color: var(--fill-color);\n",
              "    }\n",
              "  }\n",
              "</style>\n",
              "\n",
              "  <script>\n",
              "    async function quickchart(key) {\n",
              "      const quickchartButtonEl =\n",
              "        document.querySelector('#' + key + ' button');\n",
              "      quickchartButtonEl.disabled = true;  // To prevent multiple clicks.\n",
              "      quickchartButtonEl.classList.add('colab-df-spinner');\n",
              "      try {\n",
              "        const charts = await google.colab.kernel.invokeFunction(\n",
              "            'suggestCharts', [key], {});\n",
              "      } catch (error) {\n",
              "        console.error('Error during call to suggestCharts:', error);\n",
              "      }\n",
              "      quickchartButtonEl.classList.remove('colab-df-spinner');\n",
              "      quickchartButtonEl.classList.add('colab-df-quickchart-complete');\n",
              "    }\n",
              "    (() => {\n",
              "      let quickchartButtonEl =\n",
              "        document.querySelector('#df-e2d8c33a-7530-4ba4-9452-2b5831e2c06f button');\n",
              "      quickchartButtonEl.style.display =\n",
              "        google.colab.kernel.accessAllowed ? 'block' : 'none';\n",
              "    })();\n",
              "  </script>\n",
              "</div>\n",
              "    </div>\n",
              "  </div>\n"
            ],
            "application/vnd.google.colaboratory.intrinsic+json": {
              "type": "dataframe",
              "variable_name": "df",
              "summary": "{\n  \"name\": \"df\",\n  \"rows\": 4377,\n  \"fields\": [\n    {\n      \"column\": \"com.brentpanther.bitcoinwidget\",\n      \"properties\": {\n        \"dtype\": \"category\",\n        \"num_unique_values\": 5,\n        \"samples\": [\n          \"com.coinmarketcap.android\",\n          \"com.blockfolio.cryptotracker\",\n          \"co.mona.android\"\n        ],\n        \"semantic_type\": \"\",\n        \"description\": \"\"\n      }\n    },\n    {\n      \"column\": \"Graham Sellars\",\n      \"properties\": {\n        \"dtype\": \"string\",\n        \"num_unique_values\": 2599,\n        \"samples\": [\n          \"Miguel Mena\",\n          \"ILAHI ANGADI\",\n          \"ENG CHANMONDOL\"\n        ],\n        \"semantic_type\": \"\",\n        \"description\": \"\"\n      }\n    },\n    {\n      \"column\": \"Could use an alert for when a currency hits a certain price but apart from that does a very good job\",\n      \"properties\": {\n        \"dtype\": \"string\",\n        \"num_unique_values\": 2352,\n        \"samples\": [\n          \"omg, this is awesome! you guys should try it by downloading this app.\",\n          \"I have a hard time logging into crypto every single time I try. I've been trying for days now to get into my app to my account why are you keeping me from my account how come you won't help me get into my account I don't understand\",\n          \"A really good app\"\n        ],\n        \"semantic_type\": \"\",\n        \"description\": \"\"\n      }\n    },\n    {\n      \"column\": \"5\",\n      \"properties\": {\n        \"dtype\": \"number\",\n        \"std\": 1,\n        \"min\": 1,\n        \"max\": 5,\n        \"num_unique_values\": 5,\n        \"samples\": [\n          1,\n          2,\n          4\n        ],\n        \"semantic_type\": \"\",\n        \"description\": \"\"\n      }\n    }\n  ]\n}"
            }
          },
          "metadata": {}
        }
      ]
    },
    {
      "cell_type": "markdown",
      "source": [
        "TASK 2: PREPROCESS YOUR TEXT\n"
      ],
      "metadata": {
        "id": "DGb2r4g7b1B0"
      }
    },
    {
      "cell_type": "markdown",
      "source": [
        "Original App: Simple Crypto Widget"
      ],
      "metadata": {
        "id": "7fX13seZpe-V"
      }
    },
    {
      "cell_type": "code",
      "source": [
        "import random\n",
        "import string\n",
        "import re\n",
        "import nltk\n",
        "from nltk.corpus import stopwords\n",
        "from nltk.tokenize import word_tokenize\n",
        "from nltk.stem import WordNetLemmatizer\n",
        "from google_play_scraper import reviews_all\n",
        "import pandas as pd"
      ],
      "metadata": {
        "id": "haDqVbBAPD1Y"
      },
      "execution_count": 70,
      "outputs": []
    },
    {
      "cell_type": "code",
      "source": [
        "nltk.download('stopwords')\n",
        "nltk.download('punkt')\n",
        "nltk.download('wordnet')"
      ],
      "metadata": {
        "colab": {
          "base_uri": "https://localhost:8080/"
        },
        "id": "aGo5YzqJPGKT",
        "outputId": "f3cecad7-ae6a-4001-abf5-02b9e49ec629"
      },
      "execution_count": 71,
      "outputs": [
        {
          "output_type": "stream",
          "name": "stderr",
          "text": [
            "[nltk_data] Downloading package stopwords to /root/nltk_data...\n",
            "[nltk_data]   Package stopwords is already up-to-date!\n",
            "[nltk_data] Downloading package punkt to /root/nltk_data...\n",
            "[nltk_data]   Package punkt is already up-to-date!\n",
            "[nltk_data] Downloading package wordnet to /root/nltk_data...\n",
            "[nltk_data]   Package wordnet is already up-to-date!\n"
          ]
        },
        {
          "output_type": "execute_result",
          "data": {
            "text/plain": [
              "True"
            ]
          },
          "metadata": {},
          "execution_count": 71
        }
      ]
    },
    {
      "cell_type": "code",
      "source": [
        "lemmatizer = WordNetLemmatizer()"
      ],
      "metadata": {
        "id": "Cy8JFSCAPInJ"
      },
      "execution_count": 72,
      "outputs": []
    },
    {
      "cell_type": "code",
      "source": [
        "# lets start with preprocessing the reviews for SUD\n",
        "def preprocess_review(review):\n",
        "    # Remove punctuation and convert to lowercase as asked in the document\n",
        "    review = review.translate(str.maketrans('', '', string.punctuation))\n",
        "    review = review.lower()\n",
        "\n",
        "    review = re.sub(r'[^a-zA-Z0-9\\s]', '', review)\n",
        "\n",
        "    tokens = word_tokenize(review)\n",
        "\n",
        "    stop_words = set(stopwords.words('english'))\n",
        "    filtered_tokens = [word for word in tokens if word not in stop_words]\n",
        "\n",
        "    lemmatized_tokens = [lemmatizer.lemmatize(word) for word in filtered_tokens]\n",
        "    preprocessed_review = ' '.join(lemmatized_tokens)\n",
        "    return preprocessed_review\n",
        "\n",
        "app_reviews = reviews_all(\n",
        "    'com.brentpanther.bitcoinwidget',\n",
        "    sleep_milliseconds=0,\n",
        "    lang='en',\n",
        "    country='us',\n",
        ")\n",
        "\n",
        "df_reviews = pd.DataFrame(app_reviews)\n",
        "\n",
        "random_reviews_indices = random.sample(range(len(df_reviews)), 15)\n",
        "random_reviews = df_reviews.loc[random_reviews_indices]\n",
        "\n",
        "#processing my SUD app reivews\n",
        "preprocessed_original_reviews = [preprocess_review(review) for review in random_reviews['content']]\n",
        "\n",
        "df_preprocessed_original_reviews = pd.DataFrame({\n",
        "    'Original Reviews': random_reviews['content'],\n",
        "    'Preprocessed Reviews': preprocessed_original_reviews\n",
        "})\n",
        "\n",
        "df_preprocessed_original_reviews.to_csv('original_reviews.csv', index=False)\n",
        "\n",
        "print(\"Original and Preprocessed Reviews:\")\n",
        "print(df_preprocessed_original_reviews)\n"
      ],
      "metadata": {
        "colab": {
          "base_uri": "https://localhost:8080/"
        },
        "id": "AEOtG5d6pj81",
        "outputId": "8f2127fc-dffd-43b5-bbf3-79232b8da431"
      },
      "execution_count": 77,
      "outputs": [
        {
          "output_type": "stream",
          "name": "stdout",
          "text": [
            "Original and Preprocessed Reviews:\n",
            "                                      Original Reviews  \\\n",
            "102           Really user friendly. Very simple to use   \n",
            "57                 Excelent !!! Thank you soo much !!!   \n",
            "1                                                   ok   \n",
            "34   Just what I wanted, simply, stealth, updates i...   \n",
            "6         Great widget. Shows currency and your wallet   \n",
            "13                                   Works awesome!!!!   \n",
            "137  Easy to use and with good customization option...   \n",
            "63                                         Not working   \n",
            "16   Widgets not working correctly, don't update pr...   \n",
            "61                                            Perfect.   \n",
            "123   Perfect app does exactly what it says on the tin   \n",
            "185                                               Good   \n",
            "84                                     Works Great....   \n",
            "66   Had some trouble with \"battery saver\". mines c...   \n",
            "136  Perfectly Exactly 100% as described. Simple UI...   \n",
            "\n",
            "                                  Preprocessed Reviews  \n",
            "102                    really user friendly simple use  \n",
            "57                             excelent thank soo much  \n",
            "1                                                   ok  \n",
            "34                        wanted simply stealth update  \n",
            "6                    great widget show currency wallet  \n",
            "13                                        work awesome  \n",
            "137  easy use good customization option worked good...  \n",
            "63                                             working  \n",
            "16   widget working correctly dont update price coi...  \n",
            "61                                             perfect  \n",
            "123                        perfect app exactly say tin  \n",
            "185                                               good  \n",
            "84                                          work great  \n",
            "66   trouble battery saver mine called staminamode ...  \n",
            "136  perfectly exactly 100 described simple ui stra...  \n"
          ]
        }
      ]
    },
    {
      "cell_type": "markdown",
      "source": [
        "Competitor Application Number 1: CoinMarketCap"
      ],
      "metadata": {
        "id": "KDzrbuS6cAZl"
      }
    },
    {
      "cell_type": "code",
      "source": [
        "import random\n",
        "import string\n",
        "import re\n",
        "import nltk\n",
        "from nltk.corpus import stopwords\n",
        "from nltk.tokenize import word_tokenize\n",
        "from nltk.stem import WordNetLemmatizer\n",
        "from google_play_scraper import reviews_all\n",
        "import pandas as pd"
      ],
      "metadata": {
        "id": "Qblw2289O0gr"
      },
      "execution_count": 65,
      "outputs": []
    },
    {
      "cell_type": "code",
      "source": [
        "nltk.download('stopwords')\n",
        "nltk.download('punkt')\n",
        "nltk.download('wordnet')"
      ],
      "metadata": {
        "colab": {
          "base_uri": "https://localhost:8080/"
        },
        "id": "-9cXH6vUO3ga",
        "outputId": "394494f3-3e14-47cd-e209-cf7046448a99"
      },
      "execution_count": 66,
      "outputs": [
        {
          "output_type": "stream",
          "name": "stderr",
          "text": [
            "[nltk_data] Downloading package stopwords to /root/nltk_data...\n",
            "[nltk_data]   Package stopwords is already up-to-date!\n",
            "[nltk_data] Downloading package punkt to /root/nltk_data...\n",
            "[nltk_data]   Package punkt is already up-to-date!\n",
            "[nltk_data] Downloading package wordnet to /root/nltk_data...\n",
            "[nltk_data]   Package wordnet is already up-to-date!\n"
          ]
        },
        {
          "output_type": "execute_result",
          "data": {
            "text/plain": [
              "True"
            ]
          },
          "metadata": {},
          "execution_count": 66
        }
      ]
    },
    {
      "cell_type": "code",
      "source": [
        "lemmatizer = WordNetLemmatizer()"
      ],
      "metadata": {
        "id": "JhBjrNo9O5om"
      },
      "execution_count": 67,
      "outputs": []
    },
    {
      "cell_type": "code",
      "source": [
        "# processing the reiview for my competitor app 1\n",
        "def preprocess_review(review):\n",
        "    # Remove punctuation and convert to lowercase as asked in the document\n",
        "    review = review.translate(str.maketrans('', '', string.punctuation))\n",
        "    review = review.lower()\n",
        "    review = re.sub(r'[^a-zA-Z0-9\\s]', '', review)\n",
        "\n",
        "    tokens = word_tokenize(review)\n",
        "    stop_words = set(stopwords.words('english'))\n",
        "    filtered_tokens = [word for word in tokens if word not in stop_words]\n",
        "\n",
        "    lemmatized_tokens = [lemmatizer.lemmatize(word) for word in filtered_tokens]\n",
        "    preprocessed_review = ' '.join(lemmatized_tokens)\n",
        "    return preprocessed_review\n",
        "\n",
        "competitor1_reviews = reviews_all(\n",
        "    'com.coinmarketcap.android',\n",
        "    sleep_milliseconds=0,\n",
        "    lang='en',\n",
        "    country='us',\n",
        ")\n",
        "\n",
        "df_competitor1_reviews = pd.DataFrame(competitor1_reviews)\n",
        "\n",
        "random_competitor1_reviews_indices = random.sample(range(len(df_competitor1_reviews)), 15)\n",
        "random_competitor1_reviews = df_competitor1_reviews.loc[random_competitor1_reviews_indices]\n",
        "\n",
        "# processing the reviews of my competitor app 1 after fetching them\n",
        "preprocessed_competitor1_reviews = [preprocess_review(review) for review in random_competitor1_reviews['content']]\n",
        "\n",
        "df_preprocessed_competitor1_reviews = pd.DataFrame({\n",
        "    'Original Reviews': random_competitor1_reviews['content'],\n",
        "    'Preprocessed Reviews': preprocessed_competitor1_reviews\n",
        "})\n",
        "\n",
        "df_preprocessed_competitor1_reviews.to_csv('competitor1_reviews.csv', index=False)\n",
        "\n",
        "print(\"Original and Preprocessed Competitor 1 Reviews:\")\n",
        "print(df_preprocessed_competitor1_reviews)\n",
        "\n"
      ],
      "metadata": {
        "colab": {
          "base_uri": "https://localhost:8080/"
        },
        "id": "ZIdbiBmzb2yj",
        "outputId": "38c6fcea-52ed-4113-944d-cdd98a3c2763"
      },
      "execution_count": 76,
      "outputs": [
        {
          "output_type": "stream",
          "name": "stdout",
          "text": [
            "Original and Preprocessed Competitor 1 Reviews:\n",
            "                                      Original Reviews  \\\n",
            "75   very wonderful app, I've been using this for m...   \n",
            "61   Great app!! Been on here since 2021 and counti...   \n",
            "57                                           well-done   \n",
            "40   I wish I could purchase coins like xdc, but I'...   \n",
            "33           WOW Well Done Very Nice App 😘😘😘😘😘😍😍😍😍😍...   \n",
            "172                                      very bilinear   \n",
            "28                          The best market Supervisor   \n",
            "82                                           excellent   \n",
            "81                                     best app use it   \n",
            "64                                    Good application   \n",
            "74                                               SHARP   \n",
            "60                                                good   \n",
            "130                        its really good 👍 great job   \n",
            "8                                            zabardast   \n",
            "144                                               good   \n",
            "\n",
            "                                  Preprocessed Reviews  \n",
            "75                      wonderful app ive using 3 year  \n",
            "61   great app since 2021 counting buh started expe...  \n",
            "57                                            welldone  \n",
            "40   wish could purchase coin like xdc im still sat...  \n",
            "33                              wow well done nice app  \n",
            "172                                           bilinear  \n",
            "28                              best market supervisor  \n",
            "82                                           excellent  \n",
            "81                                        best app use  \n",
            "64                                    good application  \n",
            "74                                               sharp  \n",
            "60                                                good  \n",
            "130                              really good great job  \n",
            "8                                            zabardast  \n",
            "144                                               good  \n"
          ]
        }
      ]
    },
    {
      "cell_type": "markdown",
      "source": [
        "Competitor Application Number 2: Crypto.com - Buy Bitcoin, SHIB"
      ],
      "metadata": {
        "id": "OJb-mJt9cOw8"
      }
    },
    {
      "cell_type": "code",
      "source": [
        "import random\n",
        "import string\n",
        "import re\n",
        "import nltk\n",
        "from nltk.corpus import stopwords\n",
        "from nltk.tokenize import word_tokenize\n",
        "from nltk.stem import WordNetLemmatizer\n",
        "from google_play_scraper import reviews_all\n",
        "import pandas as pd"
      ],
      "metadata": {
        "id": "ssif-jzsOgll"
      },
      "execution_count": 61,
      "outputs": []
    },
    {
      "cell_type": "code",
      "source": [
        "nltk.download('stopwords')\n",
        "nltk.download('punkt')\n",
        "nltk.download('wordnet')"
      ],
      "metadata": {
        "colab": {
          "base_uri": "https://localhost:8080/"
        },
        "id": "RUeTt0EUOiqd",
        "outputId": "d5cc74f0-83a4-43b5-bbfa-5d70c0e02468"
      },
      "execution_count": 62,
      "outputs": [
        {
          "output_type": "stream",
          "name": "stderr",
          "text": [
            "[nltk_data] Downloading package stopwords to /root/nltk_data...\n",
            "[nltk_data]   Package stopwords is already up-to-date!\n",
            "[nltk_data] Downloading package punkt to /root/nltk_data...\n",
            "[nltk_data]   Package punkt is already up-to-date!\n",
            "[nltk_data] Downloading package wordnet to /root/nltk_data...\n",
            "[nltk_data]   Package wordnet is already up-to-date!\n"
          ]
        },
        {
          "output_type": "execute_result",
          "data": {
            "text/plain": [
              "True"
            ]
          },
          "metadata": {},
          "execution_count": 62
        }
      ]
    },
    {
      "cell_type": "code",
      "source": [
        "lemmatizer = WordNetLemmatizer()"
      ],
      "metadata": {
        "id": "KeSOX6TzOlBu"
      },
      "execution_count": 63,
      "outputs": []
    },
    {
      "cell_type": "code",
      "source": [
        "# processing review for competitor app 2\n",
        "def preprocess_review(review):\n",
        "\n",
        "    # Remove punctuation and convert to lowercase as mentioned in the document\n",
        "    review = review.translate(str.maketrans('', '', string.punctuation))\n",
        "    review = review.lower()\n",
        "\n",
        "    review = re.sub(r'[^a-zA-Z0-9\\s]', '', review)\n",
        "\n",
        "    tokens = word_tokenize(review)\n",
        "\n",
        "    stop_words = set(stopwords.words('english'))\n",
        "    filtered_tokens = [word for word in tokens if word not in stop_words]\n",
        "\n",
        "    lemmatized_tokens = [lemmatizer.lemmatize(word) for word in filtered_tokens]\n",
        "    preprocessed_review = ' '.join(lemmatized_tokens)\n",
        "    return preprocessed_review\n",
        "\n",
        "app_reviews = reviews_all(\n",
        "    'co.mona.android',\n",
        "    sleep_milliseconds=0,\n",
        "    lang='en',\n",
        "    country='us',\n",
        ")\n",
        "\n",
        "df_reviews = pd.DataFrame(app_reviews)\n",
        "\n",
        "random_reviews_indices = random.sample(range(len(df_reviews)), 15)\n",
        "random_reviews = df_reviews.loc[random_reviews_indices]\n",
        "\n",
        "# processing to competitor app 2 reviews after fetching them\n",
        "preprocessed_competitor2_reviews = [preprocess_review(review) for review in random_reviews['content']]\n",
        "\n",
        "df_preprocessed_competitor2_reviews = pd.DataFrame({\n",
        "    'Original Reviews': random_reviews['content'],\n",
        "    'Preprocessed Reviews': preprocessed_competitor2_reviews\n",
        "})\n",
        "\n",
        "df_preprocessed_competitor2_reviews.to_csv('competitor2_reviews.csv', index=False)\n",
        "\n",
        "print(\"Original and Preprocessed Competitor 2 Reviews:\")\n",
        "print(df_preprocessed_competitor2_reviews)\n"
      ],
      "metadata": {
        "colab": {
          "base_uri": "https://localhost:8080/"
        },
        "id": "N3_PlcQzdLxq",
        "outputId": "0f6a8e6c-aee3-4ff1-ae80-76f845ce3f0c"
      },
      "execution_count": 78,
      "outputs": [
        {
          "output_type": "stream",
          "name": "stdout",
          "text": [
            "Original and Preprocessed Competitor 2 Reviews:\n",
            "                                      Original Reviews  \\\n",
            "249  Complete scam kept me on reviewing documents; ...   \n",
            "373  Don't waste your time It's taking my driver li...   \n",
            "122  Till now still no respond from support. email ...   \n",
            "95                                           great app   \n",
            "43   I tried many times to ask a question about my ...   \n",
            "58                                               Scam!   \n",
            "310  Worst customer service I've experienced. Platf...   \n",
            "39   Slowest app to log into, as well as trade with...   \n",
            "224  Why Kittu is not supporting our Bangladeshi nu...   \n",
            "32                                 Easier tounderstand   \n",
            "278  learning this new process. tired of my stuff b...   \n",
            "322  if I could rate 0 stars I would now it keeps s...   \n",
            "319  i cannot rate any app. proffesionally, unless ...   \n",
            "393  This app discriminates against Americans and w...   \n",
            "257  Can you tell Kris's that we know it's his team...   \n",
            "\n",
            "                                  Preprocessed Reviews  \n",
            "249  complete scam kept reviewing document send inf...  \n",
            "373  dont waste time taking driver licence passport...  \n",
            "122  till still respond support email sent every da...  \n",
            "95                                           great app  \n",
            "43   tried many time ask question card blocked even...  \n",
            "58                                                scam  \n",
            "310  worst customer service ive experienced platfor...  \n",
            "39   slowest app log well trade terrible trading sp...  \n",
            "224                kittu supporting bangladeshi number  \n",
            "32                                 easier tounderstand  \n",
            "278            learning new process tired stuff hacked  \n",
            "322  could rate 0 star would keep sending notificat...  \n",
            "319  rate app proffesionally unless used app theref...  \n",
            "393  app discriminates american wont sell u monero ...  \n",
            "257  tell kris know team trying take u one scamming...  \n"
          ]
        }
      ]
    },
    {
      "cell_type": "markdown",
      "source": [
        "Similar Application 1: Bitcoin Ticker"
      ],
      "metadata": {
        "id": "bo2XfMgJdjS2"
      }
    },
    {
      "cell_type": "code",
      "source": [
        "import random\n",
        "import string\n",
        "import re\n",
        "import nltk\n",
        "from nltk.corpus import stopwords\n",
        "from nltk.tokenize import word_tokenize\n",
        "from nltk.stem import WordNetLemmatizer\n",
        "from google_play_scraper import reviews_all\n",
        "import pandas as pd"
      ],
      "metadata": {
        "id": "YoLa-RbzOUYB"
      },
      "execution_count": 57,
      "outputs": []
    },
    {
      "cell_type": "code",
      "source": [
        "nltk.download('stopwords')\n",
        "nltk.download('punkt')\n",
        "nltk.download('wordnet')"
      ],
      "metadata": {
        "colab": {
          "base_uri": "https://localhost:8080/"
        },
        "id": "KxXvLr71OWQi",
        "outputId": "b7c11eac-9329-4580-dcc3-2f67dc30491c"
      },
      "execution_count": 58,
      "outputs": [
        {
          "output_type": "stream",
          "name": "stderr",
          "text": [
            "[nltk_data] Downloading package stopwords to /root/nltk_data...\n",
            "[nltk_data]   Package stopwords is already up-to-date!\n",
            "[nltk_data] Downloading package punkt to /root/nltk_data...\n",
            "[nltk_data]   Package punkt is already up-to-date!\n",
            "[nltk_data] Downloading package wordnet to /root/nltk_data...\n",
            "[nltk_data]   Package wordnet is already up-to-date!\n"
          ]
        },
        {
          "output_type": "execute_result",
          "data": {
            "text/plain": [
              "True"
            ]
          },
          "metadata": {},
          "execution_count": 58
        }
      ]
    },
    {
      "cell_type": "code",
      "source": [
        "lemmatizer = WordNetLemmatizer()"
      ],
      "metadata": {
        "id": "fjFI-wogOZNG"
      },
      "execution_count": 59,
      "outputs": []
    },
    {
      "cell_type": "code",
      "source": [
        "# preprocessing my similar application review\n",
        "def preprocess_review(review):\n",
        "    # Remove punctuation, convert to lowercase, and all the steps that were mentioned in the document\n",
        "    review = review.translate(str.maketrans('', '', string.punctuation))\n",
        "    review = review.lower()\n",
        "\n",
        "    review = re.sub(r'[^a-zA-Z0-9\\s]', '', review)\n",
        "\n",
        "    tokens = word_tokenize(review)\n",
        "\n",
        "    stop_words = set(stopwords.words('english'))\n",
        "    filtered_tokens = [word for word in tokens if word not in stop_words]\n",
        "\n",
        "    lemmatized_tokens = [lemmatizer.lemmatize(word) for word in filtered_tokens]\n",
        "    preprocessed_review = ' '.join(lemmatized_tokens)\n",
        "    return preprocessed_review\n",
        "\n",
        "app_reviews = reviews_all(\n",
        "    'st.brothas.mtgoxwidget',\n",
        "    sleep_milliseconds=0,\n",
        "    lang='en',\n",
        "    country='us',\n",
        ")\n",
        "\n",
        "df_reviews = pd.DataFrame(app_reviews)\n",
        "\n",
        "random_reviews_indices = random.sample(range(len(df_reviews)), 15)\n",
        "random_reviews = df_reviews.loc[random_reviews_indices]\n",
        "\n",
        "#  preprocessing to similar app 1 reviews after fetching them\n",
        "preprocessed_similar_app1_reviews = [preprocess_review(review) for review in random_reviews['content']]\n",
        "\n",
        "df_preprocessed_similar_app1_reviews = pd.DataFrame({\n",
        "    'Original Reviews': random_reviews['content'],\n",
        "    'Preprocessed Reviews': preprocessed_similar_app1_reviews\n",
        "})\n",
        "\n",
        "df_preprocessed_similar_app1_reviews.to_csv('similar_app1_reviews.csv', index=False)\n",
        "\n",
        "print(\"Original and Preprocessed Similar App 1 Reviews:\")\n",
        "print(df_preprocessed_similar_app1_reviews)\n"
      ],
      "metadata": {
        "colab": {
          "base_uri": "https://localhost:8080/"
        },
        "id": "QdKDSBXxdonF",
        "outputId": "3cc02b2b-3dc2-4feb-9915-a788d3e3ef66"
      },
      "execution_count": 60,
      "outputs": [
        {
          "output_type": "stream",
          "name": "stdout",
          "text": [
            "Original and Preprocessed Similar App 1 Reviews:\n",
            "                                      Original Reviews  \\\n",
            "101                      Unable to load required data.   \n",
            "415    Good app . But need more coins to be installed.   \n",
            "27                                           Fantastic   \n",
            "445  You can only add ONE coin per widget! Robinhoo...   \n",
            "181  Awesome widget app. Real-time portfolio value....   \n",
            "578                   Pretty good. Has occasional ads.   \n",
            "566                                            perfect   \n",
            "304  The UX design of the widget is good but data d...   \n",
            "224        App just buffers and no longer works for me   \n",
            "512             played audio ad while phone was locked   \n",
            "371  In Addition to tracking the crypto a particula...   \n",
            "88   Great app i like the fact that you can set the...   \n",
            "126  Just after installing this app, I started rece...   \n",
            "390                           Good App - does the job.   \n",
            "325  Slow to load but works good. Annoying ads as u...   \n",
            "\n",
            "                                  Preprocessed Reviews  \n",
            "101                          unable load required data  \n",
            "415                       good app need coin installed  \n",
            "27                                           fantastic  \n",
            "445  add one coin per widget robinhood widget let v...  \n",
            "181  awesome widget app realtime portfolio value mi...  \n",
            "578                          pretty good occasional ad  \n",
            "566                                            perfect  \n",
            "304                    ux design widget good data load  \n",
            "224                             app buffer longer work  \n",
            "512                       played audio ad phone locked  \n",
            "371  addition tracking crypto particularly terrific...  \n",
            "88   great app like fact set alert parameter specif...  \n",
            "126  installing app started receiving unsolicited call  \n",
            "390                                       good app job  \n",
            "325              slow load work good annoying ad usual  \n"
          ]
        }
      ]
    },
    {
      "cell_type": "code",
      "source": [
        "from google.colab import drive\n",
        "drive.mount('/content/drive')"
      ],
      "metadata": {
        "colab": {
          "base_uri": "https://localhost:8080/"
        },
        "id": "BLmdR07mFQQz",
        "outputId": "715757f9-a56f-4914-e87a-f49613bd9aae"
      },
      "execution_count": 7,
      "outputs": [
        {
          "output_type": "stream",
          "name": "stdout",
          "text": [
            "Mounted at /content/drive\n"
          ]
        }
      ]
    },
    {
      "cell_type": "markdown",
      "source": [
        "Similar Application 2: Blockfolio"
      ],
      "metadata": {
        "id": "E2bU6_Qrd1Pn"
      }
    },
    {
      "cell_type": "code",
      "source": [
        "import random\n",
        "import string\n",
        "import re\n",
        "import nltk\n",
        "from nltk.corpus import stopwords\n",
        "from nltk.tokenize import word_tokenize\n",
        "from nltk.stem import WordNetLemmatizer\n",
        "from google_play_scraper import reviews_all\n",
        "import pandas as pd\n"
      ],
      "metadata": {
        "id": "rirnfDZfODpx"
      },
      "execution_count": 52,
      "outputs": []
    },
    {
      "cell_type": "code",
      "source": [
        "nltk.download('stopwords')\n",
        "nltk.download('punkt')\n",
        "nltk.download('wordnet')"
      ],
      "metadata": {
        "colab": {
          "base_uri": "https://localhost:8080/"
        },
        "id": "cZuUaP_8OGvJ",
        "outputId": "c069566f-e62a-477f-e24f-f8467ff98acb"
      },
      "execution_count": 53,
      "outputs": [
        {
          "output_type": "stream",
          "name": "stderr",
          "text": [
            "[nltk_data] Downloading package stopwords to /root/nltk_data...\n",
            "[nltk_data]   Package stopwords is already up-to-date!\n",
            "[nltk_data] Downloading package punkt to /root/nltk_data...\n",
            "[nltk_data]   Package punkt is already up-to-date!\n",
            "[nltk_data] Downloading package wordnet to /root/nltk_data...\n",
            "[nltk_data]   Package wordnet is already up-to-date!\n"
          ]
        },
        {
          "output_type": "execute_result",
          "data": {
            "text/plain": [
              "True"
            ]
          },
          "metadata": {},
          "execution_count": 53
        }
      ]
    },
    {
      "cell_type": "code",
      "source": [
        "lemmatizer = WordNetLemmatizer()"
      ],
      "metadata": {
        "id": "z5UVtr_YOLZ2"
      },
      "execution_count": 55,
      "outputs": []
    },
    {
      "cell_type": "code",
      "source": [
        "# preprocessing similar application 2 review\n",
        "def preprocess_review(review):\n",
        "    # Remove punctuation, convert to lowercase and all the steps that were mentioned in the document\n",
        "    review = review.translate(str.maketrans('', '', string.punctuation))\n",
        "    review = review.lower()\n",
        "\n",
        "    review = re.sub(r'[^a-zA-Z0-9\\s]', '', review)\n",
        "\n",
        "    tokens = word_tokenize(review)\n",
        "\n",
        "    stop_words = set(stopwords.words('english'))\n",
        "    filtered_tokens = [word for word in tokens if word not in stop_words]\n",
        "\n",
        "    lemmatized_tokens = [lemmatizer.lemmatize(word) for word in filtered_tokens]\n",
        "    preprocessed_review = ' '.join(lemmatized_tokens)\n",
        "    return preprocessed_review\n",
        "\n",
        "app_reviews = reviews_all(\n",
        "    'com.blockfolio.cryptotracker',\n",
        "    sleep_milliseconds=0,\n",
        "    lang='en',\n",
        "    country='us',\n",
        ")\n",
        "\n",
        "df_reviews = pd.DataFrame(app_reviews)\n",
        "\n",
        "random_reviews_indices = random.sample(range(len(df_reviews)), 15)\n",
        "random_reviews = df_reviews.loc[random_reviews_indices]\n",
        "\n",
        "# preprocessing to similar app 2 reviews after fetching them\n",
        "preprocessed_similar_app2_reviews = [preprocess_review(review) for review in random_reviews['content']]\n",
        "\n",
        "df_preprocessed_similar_app2_reviews = pd.DataFrame({\n",
        "    'Original Reviews': random_reviews['content'],\n",
        "    'Preprocessed Reviews': preprocessed_similar_app2_reviews\n",
        "})\n",
        "\n",
        "df_preprocessed_similar_app2_reviews.to_csv('similar_app2_reviews.csv', index=False)\n",
        "\n",
        "# the displayed reviews\n",
        "print(\"Original and Preprocessed Similar App 2 Reviews:\")\n",
        "print(df_preprocessed_similar_app2_reviews)\n"
      ],
      "metadata": {
        "colab": {
          "base_uri": "https://localhost:8080/"
        },
        "id": "3DGYEfg8d6Fh",
        "outputId": "831edb64-0971-400c-d0ce-7dc71c793553"
      },
      "execution_count": 56,
      "outputs": [
        {
          "output_type": "stream",
          "name": "stdout",
          "text": [
            "Original and Preprocessed Similar App 2 Reviews:\n",
            "                                      Original Reviews  \\\n",
            "46   Something went wrong everytime I access something   \n",
            "263  Woaah, this app mobile user friendly, I can se...   \n",
            "64                                                Xbox   \n",
            "183                                   Nice application   \n",
            "193                        User-friendly app. Love it!   \n",
            "353           Excellent crypto app! ❤️ Very assembly 🥰   \n",
            "75                                                 ১১১   \n",
            "58   Error everywhere, added my coin and it showed ...   \n",
            "195                    Very helpful and amazing app 👌😁   \n",
            "92                                    Cool and awesome   \n",
            "93                                              Nice 🙂   \n",
            "149  Very good application. Easy to use and didn't ...   \n",
            "87                                  You are doing good   \n",
            "280  As someone who's new to crypto, this app is re...   \n",
            "39   Love it. Except I just tried to enter ELON coi...   \n",
            "\n",
            "                                  Preprocessed Reviews  \n",
            "46     something went wrong everytime access something  \n",
            "263  woaah app mobile user friendly see exact thing...  \n",
            "64                                                xbox  \n",
            "183                                   nice application  \n",
            "193                              userfriendly app love  \n",
            "353                      excellent crypto app assembly  \n",
            "75                                                      \n",
            "58   error everywhere added coin showed opposite pl...  \n",
            "195                                helpful amazing app  \n",
            "92                                        cool awesome  \n",
            "93                                                nice  \n",
            "149  good application easy use didnt find bug thank...  \n",
            "87                                                good  \n",
            "280  someone who new crypto app really helpful appl...  \n",
            "39   love except tried enter elon coin requires nam...  \n"
          ]
        }
      ]
    },
    {
      "cell_type": "markdown",
      "source": [
        "TASK 3: SENTIMENT ANALYSIS"
      ],
      "metadata": {
        "id": "BGWs-UYAlZeB"
      }
    },
    {
      "cell_type": "markdown",
      "source": [
        "Original App: Bitcoin widget"
      ],
      "metadata": {
        "id": "7y5n7Q7VsvtM"
      }
    },
    {
      "cell_type": "code",
      "source": [
        "from textblob import TextBlob\n",
        "import pandas as pd"
      ],
      "metadata": {
        "id": "kRsaaSdLN8nr"
      },
      "execution_count": 50,
      "outputs": []
    },
    {
      "cell_type": "code",
      "source": [
        "# USING TEXTBLOB\n",
        "df_original_reviews = pd.read_csv('original_reviews.csv')\n",
        "\n",
        "# calculate sentiment polarity\n",
        "def get_textblob_polarity(review):\n",
        "    blob = TextBlob(review)\n",
        "    return blob.sentiment.polarity\n",
        "\n",
        "df_original_reviews['Polarity'] = df_original_reviews['Original Reviews'].apply(get_textblob_polarity)\n",
        "\n",
        "df_original_reviews.rename(columns={'Original Reviews': 'Review'}, inplace=True)\n",
        "\n",
        "app_package_name = 'com.brentpanther.bitcoinwidget'\n",
        "df_original_reviews['App Package Name'] = app_package_name\n",
        "\n",
        "# columns as mentioned in the document\n",
        "df_original_reviews = df_original_reviews[['App Package Name', 'Review', 'Polarity']]\n",
        "\n",
        "print(\"TextBlob Sentiment Analysis:\")\n",
        "print(df_original_reviews)\n"
      ],
      "metadata": {
        "colab": {
          "base_uri": "https://localhost:8080/"
        },
        "id": "tx3bBo_esz-v",
        "outputId": "4c00da36-bb1d-4de1-94de-02a0462021f0"
      },
      "execution_count": 51,
      "outputs": [
        {
          "output_type": "stream",
          "name": "stdout",
          "text": [
            "TextBlob Sentiment Analysis:\n",
            "                  App Package Name  \\\n",
            "0   com.brentpanther.bitcoinwidget   \n",
            "1   com.brentpanther.bitcoinwidget   \n",
            "2   com.brentpanther.bitcoinwidget   \n",
            "3   com.brentpanther.bitcoinwidget   \n",
            "4   com.brentpanther.bitcoinwidget   \n",
            "5   com.brentpanther.bitcoinwidget   \n",
            "6   com.brentpanther.bitcoinwidget   \n",
            "7   com.brentpanther.bitcoinwidget   \n",
            "8   com.brentpanther.bitcoinwidget   \n",
            "9   com.brentpanther.bitcoinwidget   \n",
            "10  com.brentpanther.bitcoinwidget   \n",
            "11  com.brentpanther.bitcoinwidget   \n",
            "12  com.brentpanther.bitcoinwidget   \n",
            "13  com.brentpanther.bitcoinwidget   \n",
            "14  com.brentpanther.bitcoinwidget   \n",
            "\n",
            "                                               Review  Polarity  \n",
            "0                                               عالیه  0.000000  \n",
            "1   Best Widget that I found from all the existing...  0.500000  \n",
            "2   I wanted a widget that just shows me the price... -0.155556  \n",
            "3                                                Good  0.700000  \n",
            "4   This app has worked perfectly for me for years...  0.276667  \n",
            "5   Would be nice to have  to delimitate thousand ...  0.600000  \n",
            "6   Thank you for free application, but could you ...  0.150000  \n",
            "7                  Please put back the refresh button  0.000000  \n",
            "8                        Great little tool Thank you!  0.282813  \n",
            "9                                  Didn't work for me  0.000000  \n",
            "10  Would give it 5 stars if I could get the ether...  0.000000  \n",
            "11  The only missing feature is last since time in...  0.241667  \n",
            "12              After update widget freezes every day  0.000000  \n",
            "13                                       Not accurate -0.200000  \n",
            "14  Works amazing. Would pay for a 'pro' version w...  0.550000  \n"
          ]
        }
      ]
    },
    {
      "cell_type": "code",
      "source": [
        "! pip install vaderSentiment"
      ],
      "metadata": {
        "colab": {
          "base_uri": "https://localhost:8080/"
        },
        "id": "SvOf_IOMiAW0",
        "outputId": "82c09a61-751d-4611-ec11-70182b44ea43"
      },
      "execution_count": 10,
      "outputs": [
        {
          "output_type": "stream",
          "name": "stdout",
          "text": [
            "Collecting vaderSentiment\n",
            "  Downloading vaderSentiment-3.3.2-py2.py3-none-any.whl (125 kB)\n",
            "\u001b[?25l     \u001b[90m━━━━━━━━━━━━━━━━━━━━━━━━━━━━━━━━━━━━━━━━\u001b[0m \u001b[32m0.0/126.0 kB\u001b[0m \u001b[31m?\u001b[0m eta \u001b[36m-:--:--\u001b[0m\r\u001b[2K     \u001b[91m━━━━━━━━━━━━━━━━━━━\u001b[0m\u001b[91m╸\u001b[0m\u001b[90m━━━━━━━━━━━━━━━━━━━━\u001b[0m \u001b[32m61.4/126.0 kB\u001b[0m \u001b[31m1.8 MB/s\u001b[0m eta \u001b[36m0:00:01\u001b[0m\r\u001b[2K     \u001b[90m━━━━━━━━━━━━━━━━━━━━━━━━━━━━━━━━━━━━━━━━\u001b[0m \u001b[32m126.0/126.0 kB\u001b[0m \u001b[31m2.4 MB/s\u001b[0m eta \u001b[36m0:00:00\u001b[0m\n",
            "\u001b[?25hRequirement already satisfied: requests in /usr/local/lib/python3.10/dist-packages (from vaderSentiment) (2.31.0)\n",
            "Requirement already satisfied: charset-normalizer<4,>=2 in /usr/local/lib/python3.10/dist-packages (from requests->vaderSentiment) (3.3.2)\n",
            "Requirement already satisfied: idna<4,>=2.5 in /usr/local/lib/python3.10/dist-packages (from requests->vaderSentiment) (3.6)\n",
            "Requirement already satisfied: urllib3<3,>=1.21.1 in /usr/local/lib/python3.10/dist-packages (from requests->vaderSentiment) (2.0.7)\n",
            "Requirement already satisfied: certifi>=2017.4.17 in /usr/local/lib/python3.10/dist-packages (from requests->vaderSentiment) (2024.2.2)\n",
            "Installing collected packages: vaderSentiment\n",
            "Successfully installed vaderSentiment-3.3.2\n"
          ]
        }
      ]
    },
    {
      "cell_type": "code",
      "source": [
        "from vaderSentiment.vaderSentiment import SentimentIntensityAnalyzer\n",
        "import pandas as pd"
      ],
      "metadata": {
        "id": "3Q7R4xx2N5EV"
      },
      "execution_count": 48,
      "outputs": []
    },
    {
      "cell_type": "code",
      "source": [
        "# USING VADER\n",
        "df_original_reviews = pd.read_csv('original_reviews.csv')\n",
        "\n",
        "analyzer = SentimentIntensityAnalyzer()\n",
        "\n",
        "# Calculate sentiment polarity\n",
        "def get_vader_polarity(review):\n",
        "    return analyzer.polarity_scores(review)['compound']\n",
        "\n",
        "df_original_reviews['Polarity'] = df_original_reviews['Original Reviews'].apply(get_vader_polarity)\n",
        "\n",
        "df_original_reviews.rename(columns={'Original Reviews': 'Review'}, inplace=True)\n",
        "\n",
        "# app's package name coloumn\n",
        "app_package_name = 'com.brentpanther.bitcoinwidget'\n",
        "df_original_reviews['App Package Name'] = app_package_name\n",
        "\n",
        "df_original_reviews = df_original_reviews[['App Package Name', 'Review', 'Polarity']]\n",
        "\n",
        "print(\"Vader Sentiment Analysis:\")\n",
        "print(df_original_reviews)\n"
      ],
      "metadata": {
        "colab": {
          "base_uri": "https://localhost:8080/"
        },
        "id": "ZFu0bsdMs8yB",
        "outputId": "b2d27912-9cc9-40b4-9ae5-4411321b9941"
      },
      "execution_count": 49,
      "outputs": [
        {
          "output_type": "stream",
          "name": "stdout",
          "text": [
            "Vader Sentiment Analysis:\n",
            "                  App Package Name  \\\n",
            "0   com.brentpanther.bitcoinwidget   \n",
            "1   com.brentpanther.bitcoinwidget   \n",
            "2   com.brentpanther.bitcoinwidget   \n",
            "3   com.brentpanther.bitcoinwidget   \n",
            "4   com.brentpanther.bitcoinwidget   \n",
            "5   com.brentpanther.bitcoinwidget   \n",
            "6   com.brentpanther.bitcoinwidget   \n",
            "7   com.brentpanther.bitcoinwidget   \n",
            "8   com.brentpanther.bitcoinwidget   \n",
            "9   com.brentpanther.bitcoinwidget   \n",
            "10  com.brentpanther.bitcoinwidget   \n",
            "11  com.brentpanther.bitcoinwidget   \n",
            "12  com.brentpanther.bitcoinwidget   \n",
            "13  com.brentpanther.bitcoinwidget   \n",
            "14  com.brentpanther.bitcoinwidget   \n",
            "\n",
            "                                               Review  Polarity  \n",
            "0                                               عالیه    0.0000  \n",
            "1   Best Widget that I found from all the existing...    0.6696  \n",
            "2   I wanted a widget that just shows me the price...    0.0772  \n",
            "3                                                Good    0.4404  \n",
            "4   This app has worked perfectly for me for years...    0.8442  \n",
            "5   Would be nice to have  to delimitate thousand ...    0.6486  \n",
            "6   Thank you for free application, but could you ...    0.2946  \n",
            "7                  Please put back the refresh button    0.3182  \n",
            "8                        Great little tool Thank you!    0.7659  \n",
            "9                                  Didn't work for me    0.0000  \n",
            "10  Would give it 5 stars if I could get the ether...    0.3182  \n",
            "11  The only missing feature is last since time in...    0.7943  \n",
            "12              After update widget freezes every day   -0.0258  \n",
            "13                                       Not accurate    0.0000  \n",
            "14  Works amazing. Would pay for a 'pro' version w...    0.5267  \n"
          ]
        }
      ]
    },
    {
      "cell_type": "markdown",
      "source": [
        "Similar App 1\n"
      ],
      "metadata": {
        "id": "iGkg4zIt8CH9"
      }
    },
    {
      "cell_type": "code",
      "source": [
        "! pip install vaderSentiment"
      ],
      "metadata": {
        "colab": {
          "base_uri": "https://localhost:8080/"
        },
        "id": "igfCORSM8GlZ",
        "outputId": "82d2874e-250e-4bdb-902e-7aca2d407a1a"
      },
      "execution_count": 47,
      "outputs": [
        {
          "output_type": "stream",
          "name": "stdout",
          "text": [
            "Requirement already satisfied: vaderSentiment in /usr/local/lib/python3.10/dist-packages (3.3.2)\n",
            "Requirement already satisfied: requests in /usr/local/lib/python3.10/dist-packages (from vaderSentiment) (2.31.0)\n",
            "Requirement already satisfied: charset-normalizer<4,>=2 in /usr/local/lib/python3.10/dist-packages (from requests->vaderSentiment) (3.3.2)\n",
            "Requirement already satisfied: idna<4,>=2.5 in /usr/local/lib/python3.10/dist-packages (from requests->vaderSentiment) (3.6)\n",
            "Requirement already satisfied: urllib3<3,>=1.21.1 in /usr/local/lib/python3.10/dist-packages (from requests->vaderSentiment) (2.0.7)\n",
            "Requirement already satisfied: certifi>=2017.4.17 in /usr/local/lib/python3.10/dist-packages (from requests->vaderSentiment) (2024.2.2)\n"
          ]
        }
      ]
    },
    {
      "cell_type": "code",
      "source": [
        "from textblob import TextBlob\n",
        "import pandas as pd"
      ],
      "metadata": {
        "id": "p5QqvFW0NxvF"
      },
      "execution_count": 45,
      "outputs": []
    },
    {
      "cell_type": "code",
      "source": [
        "# USING TEXTBLOB\n",
        "df_similar_app1_reviews = pd.read_csv('similar_app1_reviews.csv')\n",
        "\n",
        "# Calculate sentiment polarity\n",
        "def get_textblob_polarity(review):\n",
        "    blob = TextBlob(review)\n",
        "    return blob.sentiment.polarity\n",
        "\n",
        "df_similar_app1_reviews['Polarity'] = df_similar_app1_reviews['Original Reviews'].apply(get_textblob_polarity)\n",
        "\n",
        "df_similar_app1_reviews.rename(columns={'Original Reviews': 'Review'}, inplace=True)\n",
        "\n",
        "app_package_name = 'st.brothas.mtgoxwidget'\n",
        "df_similar_app1_reviews['App Package Name'] = app_package_name\n",
        "\n",
        "# =columns as per the document stated\n",
        "df_similar_app1_reviews = df_similar_app1_reviews[['App Package Name', 'Review', 'Polarity']]\n",
        "\n",
        "df_similar_app1_reviews.to_csv('similar_app1_sentiment_textblob.csv', index=False)\n",
        "\n",
        "print(\"TextBlob Sentiment Analysis for Similar App 1:\")\n",
        "print(df_similar_app1_reviews)\n"
      ],
      "metadata": {
        "colab": {
          "base_uri": "https://localhost:8080/"
        },
        "id": "6v2kg_3E8LDA",
        "outputId": "8c50f278-d6cf-441b-99e4-88f1349d0023"
      },
      "execution_count": 46,
      "outputs": [
        {
          "output_type": "stream",
          "name": "stdout",
          "text": [
            "TextBlob Sentiment Analysis for Similar App 1:\n",
            "          App Package Name                                             Review  \\\n",
            "0   st.brothas.mtgoxwidget  Works fine now. Fixed my rating. Great widget!...   \n",
            "1   st.brothas.mtgoxwidget  I liked it better before ads were added. Still...   \n",
            "2   st.brothas.mtgoxwidget  Amazing widget, great wat to keep track of you...   \n",
            "3   st.brothas.mtgoxwidget  No fuss crypto ticker. Does well what it's des...   \n",
            "4   st.brothas.mtgoxwidget     Very great widget to monitor crypto currencies   \n",
            "5   st.brothas.mtgoxwidget      Simple to use, very flexible data parameters.   \n",
            "6   st.brothas.mtgoxwidget                                               Good   \n",
            "7   st.brothas.mtgoxwidget                          I have seen it a nice app   \n",
            "8   st.brothas.mtgoxwidget  Great widget I have on my home screen all the ...   \n",
            "9   st.brothas.mtgoxwidget             Does what I need and not too much else   \n",
            "10  st.brothas.mtgoxwidget                                             Great!   \n",
            "11  st.brothas.mtgoxwidget  It's great. But, defaults to Kracken prices wh...   \n",
            "12  st.brothas.mtgoxwidget         Never updates the price unless I click it.   \n",
            "13  st.brothas.mtgoxwidget                        Good but a few to many adds   \n",
            "14  st.brothas.mtgoxwidget  Good widget for crypto. Lots of tokens and exc...   \n",
            "\n",
            "    Polarity  \n",
            "0   0.365278  \n",
            "1   0.537500  \n",
            "2   0.700000  \n",
            "3   0.000000  \n",
            "4   1.000000  \n",
            "5   0.100000  \n",
            "6   0.700000  \n",
            "7   0.600000  \n",
            "8   0.462500  \n",
            "9   0.200000  \n",
            "10  1.000000  \n",
            "11  0.400000  \n",
            "12  0.000000  \n",
            "13  0.333333  \n",
            "14  0.700000  \n"
          ]
        }
      ]
    },
    {
      "cell_type": "code",
      "source": [
        "from vaderSentiment.vaderSentiment import SentimentIntensityAnalyzer\n",
        "import pandas as pd"
      ],
      "metadata": {
        "id": "BqVDjOR0NueN"
      },
      "execution_count": 43,
      "outputs": []
    },
    {
      "cell_type": "code",
      "source": [
        "#USING Vader\n",
        "df_similar_app1_reviews = pd.read_csv('similar_app1_reviews.csv')\n",
        "\n",
        "analyzer = SentimentIntensityAnalyzer()\n",
        "\n",
        "# Calculate sentiment polarity using Vader\n",
        "def get_vader_polarity(review):\n",
        "    scores = analyzer.polarity_scores(review)\n",
        "    return scores['compound']\n",
        "\n",
        "df_similar_app1_reviews['Polarity'] = df_similar_app1_reviews['Original Reviews'].apply(get_vader_polarity)\n",
        "\n",
        "df_similar_app1_reviews.rename(columns={'Original Reviews': 'Review'}, inplace=True)\n",
        "\n",
        "# the app's package name and reiview coloumns\n",
        "app_package_name = 'st.brothas.mtgoxwidget'\n",
        "df_similar_app1_reviews['App Package Name'] = app_package_name\n",
        "\n",
        "df_similar_app1_reviews = df_similar_app1_reviews[['App Package Name', 'Review', 'Polarity']]\n",
        "\n",
        "df_similar_app1_reviews.to_csv('similar_app1_sentiment_vader.csv', index=False)\n",
        "\n",
        "print(\"Vader Sentiment Analysis for Similar App 1:\")\n",
        "print(df_similar_app1_reviews)\n"
      ],
      "metadata": {
        "colab": {
          "base_uri": "https://localhost:8080/"
        },
        "id": "aelt58NVr2bO",
        "outputId": "6e2e0621-5bc7-4fad-e5a6-4679d526d743"
      },
      "execution_count": 44,
      "outputs": [
        {
          "output_type": "stream",
          "name": "stdout",
          "text": [
            "Vader Sentiment Analysis for Similar App 1:\n",
            "          App Package Name                                             Review  \\\n",
            "0   st.brothas.mtgoxwidget  Works fine now. Fixed my rating. Great widget!...   \n",
            "1   st.brothas.mtgoxwidget  I liked it better before ads were added. Still...   \n",
            "2   st.brothas.mtgoxwidget  Amazing widget, great wat to keep track of you...   \n",
            "3   st.brothas.mtgoxwidget  No fuss crypto ticker. Does well what it's des...   \n",
            "4   st.brothas.mtgoxwidget     Very great widget to monitor crypto currencies   \n",
            "5   st.brothas.mtgoxwidget      Simple to use, very flexible data parameters.   \n",
            "6   st.brothas.mtgoxwidget                                               Good   \n",
            "7   st.brothas.mtgoxwidget                          I have seen it a nice app   \n",
            "8   st.brothas.mtgoxwidget  Great widget I have on my home screen all the ...   \n",
            "9   st.brothas.mtgoxwidget             Does what I need and not too much else   \n",
            "10  st.brothas.mtgoxwidget                                             Great!   \n",
            "11  st.brothas.mtgoxwidget  It's great. But, defaults to Kracken prices wh...   \n",
            "12  st.brothas.mtgoxwidget         Never updates the price unless I click it.   \n",
            "13  st.brothas.mtgoxwidget                        Good but a few to many adds   \n",
            "14  st.brothas.mtgoxwidget  Good widget for crypto. Lots of tokens and exc...   \n",
            "\n",
            "    Polarity  \n",
            "0     0.7839  \n",
            "1     0.8720  \n",
            "2     0.8360  \n",
            "3    -0.0258  \n",
            "4     0.6590  \n",
            "5     0.2944  \n",
            "6     0.4404  \n",
            "7     0.4215  \n",
            "8     0.6588  \n",
            "9     0.0000  \n",
            "10    0.6588  \n",
            "11   -0.1406  \n",
            "12    0.0000  \n",
            "13    0.2382  \n",
            "14    0.4404  \n"
          ]
        }
      ]
    },
    {
      "cell_type": "markdown",
      "source": [
        "Similar App 2"
      ],
      "metadata": {
        "id": "WTCHROAEtPQG"
      }
    },
    {
      "cell_type": "code",
      "source": [
        "! pip install vaderSentiment"
      ],
      "metadata": {
        "colab": {
          "base_uri": "https://localhost:8080/"
        },
        "id": "DYOVjvVoqP8B",
        "outputId": "a3ca8968-26cf-4873-adf1-dc4259636d8e"
      },
      "execution_count": 15,
      "outputs": [
        {
          "output_type": "stream",
          "name": "stdout",
          "text": [
            "Requirement already satisfied: vaderSentiment in /usr/local/lib/python3.10/dist-packages (3.3.2)\n",
            "Requirement already satisfied: requests in /usr/local/lib/python3.10/dist-packages (from vaderSentiment) (2.31.0)\n",
            "Requirement already satisfied: charset-normalizer<4,>=2 in /usr/local/lib/python3.10/dist-packages (from requests->vaderSentiment) (3.3.2)\n",
            "Requirement already satisfied: idna<4,>=2.5 in /usr/local/lib/python3.10/dist-packages (from requests->vaderSentiment) (3.6)\n",
            "Requirement already satisfied: urllib3<3,>=1.21.1 in /usr/local/lib/python3.10/dist-packages (from requests->vaderSentiment) (2.0.7)\n",
            "Requirement already satisfied: certifi>=2017.4.17 in /usr/local/lib/python3.10/dist-packages (from requests->vaderSentiment) (2024.2.2)\n"
          ]
        }
      ]
    },
    {
      "cell_type": "code",
      "source": [
        "from textblob import TextBlob\n",
        "import pandas as pd"
      ],
      "metadata": {
        "id": "f0n1GoURNqHn"
      },
      "execution_count": 41,
      "outputs": []
    },
    {
      "cell_type": "code",
      "source": [
        "#USING TEXTBLOB\n",
        "df_similar_app2_reviews = pd.read_csv('/content/similar_app2_reviews.csv')\n",
        "\n",
        "# Calculate sentiment polarity\n",
        "def get_textblob_polarity(review):\n",
        "    blob = TextBlob(review)\n",
        "    return blob.sentiment.polarity\n",
        "\n",
        "df_similar_app2_reviews['Polarity'] = df_similar_app2_reviews['Original Reviews'].apply(get_textblob_polarity)\n",
        "\n",
        "df_similar_app2_reviews.rename(columns={'Original Reviews': 'Review'}, inplace=True)\n",
        "\n",
        "# The app's package name\n",
        "app_package_name = 'com.blockfolio.cryptotracker'\n",
        "df_similar_app2_reviews['App Package Name'] = app_package_name\n",
        "\n",
        "df_similar_app2_reviews = df_similar_app1_reviews[['App Package Name', 'Review', 'Polarity']]\n",
        "\n",
        "df_similar_app2_reviews.to_csv('similar_app2_sentiment_textblob.csv', index=False)\n",
        "\n",
        "print(\"TextBlob Sentiment Analysis for Similar App 2:\")\n",
        "print(df_similar_app2_reviews)\n"
      ],
      "metadata": {
        "colab": {
          "base_uri": "https://localhost:8080/"
        },
        "id": "13ANo8c-lwC7",
        "outputId": "e2585121-f59b-4323-91db-af71415406c6"
      },
      "execution_count": 42,
      "outputs": [
        {
          "output_type": "stream",
          "name": "stdout",
          "text": [
            "TextBlob Sentiment Analysis for Similar App 2:\n",
            "          App Package Name                                             Review  \\\n",
            "0   st.brothas.mtgoxwidget  Works fine now. Fixed my rating. Great widget!...   \n",
            "1   st.brothas.mtgoxwidget  I liked it better before ads were added. Still...   \n",
            "2   st.brothas.mtgoxwidget  Amazing widget, great wat to keep track of you...   \n",
            "3   st.brothas.mtgoxwidget  No fuss crypto ticker. Does well what it's des...   \n",
            "4   st.brothas.mtgoxwidget     Very great widget to monitor crypto currencies   \n",
            "5   st.brothas.mtgoxwidget      Simple to use, very flexible data parameters.   \n",
            "6   st.brothas.mtgoxwidget                                               Good   \n",
            "7   st.brothas.mtgoxwidget                          I have seen it a nice app   \n",
            "8   st.brothas.mtgoxwidget  Great widget I have on my home screen all the ...   \n",
            "9   st.brothas.mtgoxwidget             Does what I need and not too much else   \n",
            "10  st.brothas.mtgoxwidget                                             Great!   \n",
            "11  st.brothas.mtgoxwidget  It's great. But, defaults to Kracken prices wh...   \n",
            "12  st.brothas.mtgoxwidget         Never updates the price unless I click it.   \n",
            "13  st.brothas.mtgoxwidget                        Good but a few to many adds   \n",
            "14  st.brothas.mtgoxwidget  Good widget for crypto. Lots of tokens and exc...   \n",
            "\n",
            "    Polarity  \n",
            "0     0.7839  \n",
            "1     0.8720  \n",
            "2     0.8360  \n",
            "3    -0.0258  \n",
            "4     0.6590  \n",
            "5     0.2944  \n",
            "6     0.4404  \n",
            "7     0.4215  \n",
            "8     0.6588  \n",
            "9     0.0000  \n",
            "10    0.6588  \n",
            "11   -0.1406  \n",
            "12    0.0000  \n",
            "13    0.2382  \n",
            "14    0.4404  \n"
          ]
        }
      ]
    },
    {
      "cell_type": "code",
      "source": [
        "from vaderSentiment.vaderSentiment import SentimentIntensityAnalyzer\n",
        "import pandas as pd"
      ],
      "metadata": {
        "id": "56FIculLNm9-"
      },
      "execution_count": 39,
      "outputs": []
    },
    {
      "cell_type": "code",
      "source": [
        "#USING Vader\n",
        "df_similar_app2_reviews = pd.read_csv('/content/similar_app2_reviews.csv')\n",
        "\n",
        "analyzer = SentimentIntensityAnalyzer()\n",
        "\n",
        "# Calculate sentiment polarity using Vader\n",
        "def get_vader_polarity(review):\n",
        "    scores = analyzer.polarity_scores(review)\n",
        "    return scores['compound']\n",
        "\n",
        "df_similar_app2_reviews['Polarity'] = df_similar_app2_reviews['Original Reviews'].apply(get_vader_polarity)\n",
        "\n",
        "df_similar_app2_reviews.rename(columns={'Original Reviews': 'Review'}, inplace=True)\n",
        "\n",
        "# The app's package name\n",
        "app_package_name = 'com.blockfolio.cryptotracker'\n",
        "df_similar_app2_reviews['App Package Name'] = app_package_name\n",
        "\n",
        "df_similar_app2_reviews = df_similar_app1_reviews[['App Package Name', 'Review', 'Polarity']]\n",
        "\n",
        "df_similar_app2_reviews.to_csv('similar_app2_sentiment_vader.csv', index=False)\n",
        "\n",
        "print(\"Vader Sentiment Analysis for Similar App 2:\")\n",
        "print(df_similar_app2_reviews)\n"
      ],
      "metadata": {
        "colab": {
          "base_uri": "https://localhost:8080/"
        },
        "id": "I0-_GMgksQBW",
        "outputId": "9d0a8db8-61ad-4596-ac10-6611340572d5"
      },
      "execution_count": 40,
      "outputs": [
        {
          "output_type": "stream",
          "name": "stdout",
          "text": [
            "Vader Sentiment Analysis for Similar App 2:\n",
            "          App Package Name                                             Review  \\\n",
            "0   st.brothas.mtgoxwidget  Works fine now. Fixed my rating. Great widget!...   \n",
            "1   st.brothas.mtgoxwidget  I liked it better before ads were added. Still...   \n",
            "2   st.brothas.mtgoxwidget  Amazing widget, great wat to keep track of you...   \n",
            "3   st.brothas.mtgoxwidget  No fuss crypto ticker. Does well what it's des...   \n",
            "4   st.brothas.mtgoxwidget     Very great widget to monitor crypto currencies   \n",
            "5   st.brothas.mtgoxwidget      Simple to use, very flexible data parameters.   \n",
            "6   st.brothas.mtgoxwidget                                               Good   \n",
            "7   st.brothas.mtgoxwidget                          I have seen it a nice app   \n",
            "8   st.brothas.mtgoxwidget  Great widget I have on my home screen all the ...   \n",
            "9   st.brothas.mtgoxwidget             Does what I need and not too much else   \n",
            "10  st.brothas.mtgoxwidget                                             Great!   \n",
            "11  st.brothas.mtgoxwidget  It's great. But, defaults to Kracken prices wh...   \n",
            "12  st.brothas.mtgoxwidget         Never updates the price unless I click it.   \n",
            "13  st.brothas.mtgoxwidget                        Good but a few to many adds   \n",
            "14  st.brothas.mtgoxwidget  Good widget for crypto. Lots of tokens and exc...   \n",
            "\n",
            "    Polarity  \n",
            "0     0.7839  \n",
            "1     0.8720  \n",
            "2     0.8360  \n",
            "3    -0.0258  \n",
            "4     0.6590  \n",
            "5     0.2944  \n",
            "6     0.4404  \n",
            "7     0.4215  \n",
            "8     0.6588  \n",
            "9     0.0000  \n",
            "10    0.6588  \n",
            "11   -0.1406  \n",
            "12    0.0000  \n",
            "13    0.2382  \n",
            "14    0.4404  \n"
          ]
        }
      ]
    },
    {
      "cell_type": "markdown",
      "source": [
        "Competitor App 1"
      ],
      "metadata": {
        "id": "wTvmasbguF6t"
      }
    },
    {
      "cell_type": "code",
      "source": [
        "from textblob import TextBlob\n",
        "import pandas as pd"
      ],
      "metadata": {
        "id": "GarbyXrMNjDQ"
      },
      "execution_count": 37,
      "outputs": []
    },
    {
      "cell_type": "code",
      "source": [
        "#USING TEXTBLOB\n",
        "df_competitor_app1_reviews = pd.read_csv('/content/competitor1_reviews.csv')\n",
        "\n",
        "# Calculate sentiment polarity using TextBlob\n",
        "def get_textblob_polarity(review):\n",
        "    blob = TextBlob(review)\n",
        "    return blob.sentiment.polarity\n",
        "\n",
        "df_competitor_app1_reviews['Polarity'] = df_competitor_app1_reviews['Original Reviews'].apply(get_textblob_polarity)\n",
        "\n",
        "df_competitor_app1_reviews.rename(columns={'Original Reviews': 'Review'}, inplace=True)\n",
        "\n",
        "# The app's package name and the review coloumn\n",
        "app_package_name = 'com.coinmarketcap.android'\n",
        "df_competitor_app1_reviews['App Package Name'] = app_package_name\n",
        "\n",
        "df_competitor_app1_reviews = df_similar_app1_reviews[['App Package Name', 'Review', 'Polarity']]\n",
        "\n",
        "df_competitor_app1_reviews.to_csv('df_competitor_app1_reviews_textblob.csv', index=False)\n",
        "\n",
        "print(\"TextBlob Sentiment Analysis for competitor App 1:\")\n",
        "print(df_competitor_app1_reviews)\n"
      ],
      "metadata": {
        "colab": {
          "base_uri": "https://localhost:8080/"
        },
        "id": "eGqOESuruMHA",
        "outputId": "56d0266a-6a75-428b-e40c-3503213ec24f"
      },
      "execution_count": 38,
      "outputs": [
        {
          "output_type": "stream",
          "name": "stdout",
          "text": [
            "TextBlob Sentiment Analysis for competitor App 1:\n",
            "          App Package Name                                             Review  \\\n",
            "0   st.brothas.mtgoxwidget  Works fine now. Fixed my rating. Great widget!...   \n",
            "1   st.brothas.mtgoxwidget  I liked it better before ads were added. Still...   \n",
            "2   st.brothas.mtgoxwidget  Amazing widget, great wat to keep track of you...   \n",
            "3   st.brothas.mtgoxwidget  No fuss crypto ticker. Does well what it's des...   \n",
            "4   st.brothas.mtgoxwidget     Very great widget to monitor crypto currencies   \n",
            "5   st.brothas.mtgoxwidget      Simple to use, very flexible data parameters.   \n",
            "6   st.brothas.mtgoxwidget                                               Good   \n",
            "7   st.brothas.mtgoxwidget                          I have seen it a nice app   \n",
            "8   st.brothas.mtgoxwidget  Great widget I have on my home screen all the ...   \n",
            "9   st.brothas.mtgoxwidget             Does what I need and not too much else   \n",
            "10  st.brothas.mtgoxwidget                                             Great!   \n",
            "11  st.brothas.mtgoxwidget  It's great. But, defaults to Kracken prices wh...   \n",
            "12  st.brothas.mtgoxwidget         Never updates the price unless I click it.   \n",
            "13  st.brothas.mtgoxwidget                        Good but a few to many adds   \n",
            "14  st.brothas.mtgoxwidget  Good widget for crypto. Lots of tokens and exc...   \n",
            "\n",
            "    Polarity  \n",
            "0     0.7839  \n",
            "1     0.8720  \n",
            "2     0.8360  \n",
            "3    -0.0258  \n",
            "4     0.6590  \n",
            "5     0.2944  \n",
            "6     0.4404  \n",
            "7     0.4215  \n",
            "8     0.6588  \n",
            "9     0.0000  \n",
            "10    0.6588  \n",
            "11   -0.1406  \n",
            "12    0.0000  \n",
            "13    0.2382  \n",
            "14    0.4404  \n"
          ]
        }
      ]
    },
    {
      "cell_type": "code",
      "source": [
        "from vaderSentiment.vaderSentiment import SentimentIntensityAnalyzer\n",
        "import pandas as pd"
      ],
      "metadata": {
        "id": "4KZyo8_oNfmz"
      },
      "execution_count": 35,
      "outputs": []
    },
    {
      "cell_type": "code",
      "source": [
        "#USING Vader\n",
        "df_competitor_app1_reviews = pd.read_csv('/content/competitor1_reviews.csv')\n",
        "\n",
        "analyzer = SentimentIntensityAnalyzer()\n",
        "\n",
        "# Calculate sentiment polarity using Vader\n",
        "def get_vader_polarity(review):\n",
        "    scores = analyzer.polarity_scores(review)\n",
        "    return scores['compound']\n",
        "\n",
        "df_competitor_app1_reviews['Polarity'] = df_competitor_app1_reviews['Original Reviews'].apply(get_vader_polarity)\n",
        "\n",
        "df_competitor_app1_reviews.rename(columns={'Original Reviews': 'Review'}, inplace=True)\n",
        "\n",
        "app_package_name = 'com.coinmarketcap.android'\n",
        "df_competitor_app1_reviews['App Package Name'] = app_package_name\n",
        "\n",
        "# Columns as needed\n",
        "df_competitor_app1_reviews = df_similar_app1_reviews[['App Package Name', 'Review', 'Polarity']]\n",
        "\n",
        "df_competitor_app1_reviews.to_csv('df_competitor_app1_reviews_vader.csv', index=False)\n",
        "\n",
        "print(\"Vader Sentiment Analysis for Competitor App 1:\")\n",
        "print(df_competitor_app1_reviews)\n"
      ],
      "metadata": {
        "colab": {
          "base_uri": "https://localhost:8080/"
        },
        "id": "dTyT6aukq-Ag",
        "outputId": "ebc58f27-84fa-457c-b8a0-78877866e132"
      },
      "execution_count": 36,
      "outputs": [
        {
          "output_type": "stream",
          "name": "stdout",
          "text": [
            "Vader Sentiment Analysis for Competitor App 1:\n",
            "          App Package Name                                             Review  \\\n",
            "0   st.brothas.mtgoxwidget  Works fine now. Fixed my rating. Great widget!...   \n",
            "1   st.brothas.mtgoxwidget  I liked it better before ads were added. Still...   \n",
            "2   st.brothas.mtgoxwidget  Amazing widget, great wat to keep track of you...   \n",
            "3   st.brothas.mtgoxwidget  No fuss crypto ticker. Does well what it's des...   \n",
            "4   st.brothas.mtgoxwidget     Very great widget to monitor crypto currencies   \n",
            "5   st.brothas.mtgoxwidget      Simple to use, very flexible data parameters.   \n",
            "6   st.brothas.mtgoxwidget                                               Good   \n",
            "7   st.brothas.mtgoxwidget                          I have seen it a nice app   \n",
            "8   st.brothas.mtgoxwidget  Great widget I have on my home screen all the ...   \n",
            "9   st.brothas.mtgoxwidget             Does what I need and not too much else   \n",
            "10  st.brothas.mtgoxwidget                                             Great!   \n",
            "11  st.brothas.mtgoxwidget  It's great. But, defaults to Kracken prices wh...   \n",
            "12  st.brothas.mtgoxwidget         Never updates the price unless I click it.   \n",
            "13  st.brothas.mtgoxwidget                        Good but a few to many adds   \n",
            "14  st.brothas.mtgoxwidget  Good widget for crypto. Lots of tokens and exc...   \n",
            "\n",
            "    Polarity  \n",
            "0     0.7839  \n",
            "1     0.8720  \n",
            "2     0.8360  \n",
            "3    -0.0258  \n",
            "4     0.6590  \n",
            "5     0.2944  \n",
            "6     0.4404  \n",
            "7     0.4215  \n",
            "8     0.6588  \n",
            "9     0.0000  \n",
            "10    0.6588  \n",
            "11   -0.1406  \n",
            "12    0.0000  \n",
            "13    0.2382  \n",
            "14    0.4404  \n"
          ]
        }
      ]
    },
    {
      "cell_type": "markdown",
      "source": [
        "Competitor App 2"
      ],
      "metadata": {
        "id": "ltEb_NcH99LY"
      }
    },
    {
      "cell_type": "code",
      "source": [
        "from textblob import TextBlob\n",
        "import pandas as pd"
      ],
      "metadata": {
        "id": "Ts_iR3O3Nb-C"
      },
      "execution_count": 33,
      "outputs": []
    },
    {
      "cell_type": "code",
      "source": [
        "#USING TEXTBLOB\n",
        "df_competitor_app2_reviews = pd.read_csv('/content/competitor2_reviews.csv')\n",
        "\n",
        "# Calculate sentiment polarity using TextBlob\n",
        "def get_textblob_polarity(review):\n",
        "    blob = TextBlob(review)\n",
        "    return blob.sentiment.polarity\n",
        "\n",
        "df_competitor_app2_reviews['Polarity'] = df_competitor_app2_reviews['Original Reviews'].apply(get_textblob_polarity)\n",
        "\n",
        "df_competitor_app2_reviews.rename(columns={'Original Reviews': 'Review'}, inplace=True)\n",
        "\n",
        "app_package_name = 'co.mona.android'\n",
        "df_competitor_app2_reviews['App Package Name'] = app_package_name\n",
        "\n",
        "# Coloumns order\n",
        "df_competitor_app2_reviews = df_competitor_app2_reviews[['App Package Name', 'Review', 'Polarity']]\n",
        "\n",
        "df_competitor_app2_reviews.to_csv('df_competitor_app2_reviews_textblob.csv', index=False)\n",
        "\n",
        "print(\"TextBlob Sentiment Analysis for competitor App 2:\")\n",
        "print(df_competitor_app2_reviews)\n"
      ],
      "metadata": {
        "colab": {
          "base_uri": "https://localhost:8080/"
        },
        "id": "vCdghKHp9--B",
        "outputId": "522b9e89-f251-4c27-ce9f-d629d5a45208"
      },
      "execution_count": 34,
      "outputs": [
        {
          "output_type": "stream",
          "name": "stdout",
          "text": [
            "TextBlob Sentiment Analysis for competitor App 2:\n",
            "   App Package Name                                             Review  \\\n",
            "0   co.mona.android  Could you please stop this I need to get in my...   \n",
            "1   co.mona.android                                   Errors slow open   \n",
            "2   co.mona.android  Don't use this app!!! They don't have any supp...   \n",
            "3   co.mona.android                               easy to trade crypto   \n",
            "4   co.mona.android  Massive spreads on CRO, their native token, in...   \n",
            "5   co.mona.android  Terrible unresponsive customer service. Blocks...   \n",
            "6   co.mona.android  Horrible robotic replies very rehearsed. But e...   \n",
            "7   co.mona.android  Good investment app and everything take risk, ...   \n",
            "8   co.mona.android  Bunch of thieves asked for help several times ...   \n",
            "9   co.mona.android  Love this app, easy to use, clear instructions...   \n",
            "10  co.mona.android  Although there was some issues with the suppor...   \n",
            "11  co.mona.android                         Best crypto app in the US!   \n",
            "12  co.mona.android  It not bad but is slow with login issues,was t...   \n",
            "13  co.mona.android  The only way to play this game is to not inves...   \n",
            "14  co.mona.android                                     I can't update   \n",
            "\n",
            "        Polarity  \n",
            "0  -2.000000e-01  \n",
            "1  -1.500000e-01  \n",
            "2  -5.833333e-02  \n",
            "3   4.333333e-01  \n",
            "4  -8.333333e-02  \n",
            "5  -5.625000e-01  \n",
            "6  -4.440892e-17  \n",
            "7   7.000000e-01  \n",
            "8   0.000000e+00  \n",
            "9   2.583333e-01  \n",
            "10  3.458333e-01  \n",
            "11  1.000000e+00  \n",
            "12  2.250000e-01  \n",
            "13 -9.800000e-02  \n",
            "14  0.000000e+00  \n"
          ]
        }
      ]
    },
    {
      "cell_type": "code",
      "source": [
        "from vaderSentiment.vaderSentiment import SentimentIntensityAnalyzer\n",
        "import pandas as pd"
      ],
      "metadata": {
        "id": "sW2G-14hNX8N"
      },
      "execution_count": 31,
      "outputs": []
    },
    {
      "cell_type": "code",
      "source": [
        "#USING Vader\n",
        "df_competitor_app2_reviews = pd.read_csv('/content/competitor2_reviews.csv')\n",
        "\n",
        "analyzer = SentimentIntensityAnalyzer()\n",
        "\n",
        "# Calculate sentiment polarity using Vader\n",
        "def get_vader_polarity(review):\n",
        "\n",
        "    scores = analyzer.polarity_scores(review)\n",
        "    return scores['compound']\n",
        "\n",
        "df_competitor_app2_reviews['Polarity'] = df_competitor_app2_reviews['Original Reviews'].apply(get_vader_polarity)\n",
        "\n",
        "# Coloumns name and order as needed\n",
        "df_competitor_app2_reviews.rename(columns={'Original Reviews': 'Review'}, inplace=True)\n",
        "\n",
        "app_package_name = 'co.mona.android'\n",
        "df_competitor_app2_reviews['App Package Name'] = app_package_name\n",
        "\n",
        "df_competitor_app2_reviews = df_competitor_app2_reviews[['App Package Name', 'Review', 'Polarity']]\n",
        "\n",
        "df_competitor_app2_reviews.to_csv('competitor_app2_sentiment_vader.csv', index=False)\n",
        "\n",
        "print(\"Vader Sentiment Analysis for Competitor App 2:\")\n",
        "print(df_competitor_app2_reviews)\n"
      ],
      "metadata": {
        "colab": {
          "base_uri": "https://localhost:8080/"
        },
        "id": "dSmw6dajslJ7",
        "outputId": "41bbcd39-13d8-4b5a-e22f-47a6d6b99e2b"
      },
      "execution_count": 32,
      "outputs": [
        {
          "output_type": "stream",
          "name": "stdout",
          "text": [
            "Vader Sentiment Analysis for Competitor App 2:\n",
            "   App Package Name                                             Review  \\\n",
            "0   co.mona.android  Could you please stop this I need to get in my...   \n",
            "1   co.mona.android                                   Errors slow open   \n",
            "2   co.mona.android  Don't use this app!!! They don't have any supp...   \n",
            "3   co.mona.android                               easy to trade crypto   \n",
            "4   co.mona.android  Massive spreads on CRO, their native token, in...   \n",
            "5   co.mona.android  Terrible unresponsive customer service. Blocks...   \n",
            "6   co.mona.android  Horrible robotic replies very rehearsed. But e...   \n",
            "7   co.mona.android  Good investment app and everything take risk, ...   \n",
            "8   co.mona.android  Bunch of thieves asked for help several times ...   \n",
            "9   co.mona.android  Love this app, easy to use, clear instructions...   \n",
            "10  co.mona.android  Although there was some issues with the suppor...   \n",
            "11  co.mona.android                         Best crypto app in the US!   \n",
            "12  co.mona.android  It not bad but is slow with login issues,was t...   \n",
            "13  co.mona.android  The only way to play this game is to not inves...   \n",
            "14  co.mona.android                                     I can't update   \n",
            "\n",
            "    Polarity  \n",
            "0    -0.6597  \n",
            "1    -0.3400  \n",
            "2    -0.7729  \n",
            "3     0.4404  \n",
            "4     0.2732  \n",
            "5    -0.8079  \n",
            "6    -0.3229  \n",
            "7     0.2023  \n",
            "8    -0.1531  \n",
            "9     0.8658  \n",
            "10    0.7579  \n",
            "11    0.6696  \n",
            "12    0.9526  \n",
            "13    0.3977  \n",
            "14    0.0000  \n"
          ]
        }
      ]
    },
    {
      "cell_type": "markdown",
      "source": [
        "III. How does the sentiments retrieved by Textblob and Vader compare with each\n",
        "other? How do they compare with the rating of the app? How do you interpret the similarities/differences?\n",
        "\n",
        "--> we evalute how TextBlob and Vader interpret review tones while comparing sentiments. Polarity scores (-1 to 1) are assignmend by both, denoting negativem neutral, or positive sentiment. We can measure agreement or disagreement between textual feedback and numerical ratings by comparing these scores to user ratings, which are usually expressed as a range of one to fice stars\n",
        "\n",
        "--> TextBlob, Vader and user ratings all show consistency, whihc points to trustworthy sentiment analysis. If they are good alignment, it suggests a thorough comprehension of user sentiment. But disparities could bring to light details that are overlooked by just numerical evaluations. For instance, a high rating may not alwyas indicate that the comment is sentimentally plasant\n",
        "\n",
        "--> Beyond only numerical scores, developers can learn more about user experiences by comparing sentiment analysis with user evaluations. This is all-encompassing method facilitates comprehension of user sentiment and guides decisions on app enhancement"
      ],
      "metadata": {
        "id": "nHi8VowhA03E"
      }
    },
    {
      "cell_type": "markdown",
      "source": [
        "IV. We wish to evaluate the sentiment of some review using foundation models (here\n",
        "GPT-3).\n",
        "\n",
        "\n",
        "**a) What prompt would you use?**\n",
        "--> I would use \"what is the sentiment polarity of this comment\"\n"
      ],
      "metadata": {
        "id": "yC0ExolQvf-J"
      }
    },
    {
      "cell_type": "markdown",
      "source": [
        "**B)How does the sentiment returned by GPT model compares with\n",
        "Textblob results? Create tables and compare.**\n",
        "\n",
        "**Review:** Worse customer Support ever. If you get locked out you're up $#/+ Creek!\n",
        "\n",
        "**Textblob polarity**: -0.5\n",
        "\n",
        "**GPT Sentiment:**  negative \"The sentiment polarity of the given comment is negative. The commenter expresses frustration and dissatisfaction with the customer support, indicating a negative experience with phrases like \"Worse customer support ever\" and \"If you get locked out you're up $#/+ Creek!\"\""
      ],
      "metadata": {
        "id": "NwB4GmDpytK4"
      }
    },
    {
      "cell_type": "markdown",
      "source": [
        "The sentiment of the comment has been categorized as negative by both TextBlob and the GPT model. But the GPT model just classifies it as negative without offering a precise number value, whereas TextBlob offers a numerical score of -0.5\n",
        "\n"
      ],
      "metadata": {
        "id": "dlUi5BmoybIZ"
      }
    },
    {
      "cell_type": "markdown",
      "source": [
        "**C) How does the sentiment returned by GPT model compares with Vader\n",
        "results? Create tables and compare**\n",
        "\n",
        "**Review** Fast & easy to used! The great thing that I like I can buy and sale anytime sooooo cool! â¤ï¸\n",
        "**Vader polarity:** 0.9078\n",
        "**GPT Sentiment:** Positive\n",
        "\n",
        "Again same as Textblob, Both Vader and GPT gives positive polarity but make difference is Vader provides a numerical value whereas GPT is not as specific"
      ],
      "metadata": {
        "id": "HopP2kF-j08r"
      }
    },
    {
      "cell_type": "markdown",
      "source": [
        "TASK 4: : TOPIC MODELING Using LDA"
      ],
      "metadata": {
        "id": "nCCQV_Oc-vNj"
      }
    },
    {
      "cell_type": "code",
      "source": [
        "import pandas as pd\n",
        "from sklearn.feature_extraction.text import CountVectorizer\n",
        "from sklearn.decomposition import LatentDirichletAllocation\n",
        "from nltk.corpus import stopwords\n",
        "from nltk.tokenize import word_tokenize\n",
        "from nltk.stem import WordNetLemmatizer\n",
        "import string\n",
        "import re"
      ],
      "metadata": {
        "id": "cCc5TPeLNRzQ"
      },
      "execution_count": 29,
      "outputs": []
    },
    {
      "cell_type": "code",
      "source": [
        "# loading CSV files for topic modeling\n",
        "bitcoinwidget_df = pd.read_csv(\"/content/com.brentpanther.bitcoinwidget.csv\")\n",
        "competitor1_df = pd.read_csv(\"/content/competitor1_reviews.csv\")\n",
        "competitor2_df = pd.read_csv(\"/content/competitor2_reviews.csv\")\n",
        "similar_app1_df = pd.read_csv(\"/content/similar_app1_reviews.csv\")\n",
        "similar_app2_df = pd.read_csv(\"/content/similar_app2_reviews.csv\")\n",
        "\n",
        "all_reviews_df = pd.concat([bitcoinwidget_df, competitor1_df, competitor2_df, similar_app1_df, similar_app2_df])\n",
        "\n",
        "all_reviews_df['Preprocessed Reviews'].fillna('', inplace=True)\n",
        "\n",
        "# Preprocessing SUD\n",
        "def preprocess_review(review):\n",
        "    review = review.lower()\n",
        "\n",
        "    # here we will be getting rid of all the punctuations, emojis, numbers, etc\n",
        "\n",
        "    review = review.translate(str.maketrans('', '', string.punctuation))\n",
        "\n",
        "    review = re.sub(r'\\d+', '', review)\n",
        "\n",
        "    tokens = word_tokenize(review)\n",
        "\n",
        "    stop_words = set(stopwords.words('english'))\n",
        "    filtered_tokens = [word for word in tokens if word not in stop_words]\n",
        "\n",
        "    lemmatizer = WordNetLemmatizer()\n",
        "    lemmatized_tokens = [lemmatizer.lemmatize(word) for word in filtered_tokens]\n",
        "    return \" \".join(lemmatized_tokens)\n",
        "\n",
        "all_reviews_df['Preprocessed_Review'] = all_reviews_df['Preprocessed Reviews'].apply(preprocess_review)\n",
        "\n",
        "vectorizer = CountVectorizer(max_df=0.95, min_df=2, stop_words='english')\n",
        "X = vectorizer.fit_transform(all_reviews_df['Preprocessed_Review'])\n",
        "\n",
        "# here we are applying LDA\n",
        "lda_model = LatentDirichletAllocation(n_components=15, random_state=42)\n",
        "lda_model.fit(X)\n",
        "\n",
        "def get_topics_words(model, vectorizer, n_top_words):\n",
        "    words = vectorizer.get_feature_names_out()\n",
        "    topics_words = []\n",
        "    for topic_idx, topic in enumerate(model.components_):\n",
        "        topic_words = [words[i] for i in topic.argsort()[:-n_top_words - 1:-1]]\n",
        "        topics_words.append(topic_words)\n",
        "    return topics_words\n",
        "\n",
        "# the topics and the words\n",
        "topics_words = get_topics_words(lda_model, vectorizer, 7)\n",
        "\n",
        "topics_df = pd.DataFrame(topics_words, columns=[f\"Word {i+1}\" for i in range(7)], index=[f\"Topic {i+1}\" for i in range(len(topics_words))])\n",
        "\n",
        "print(\"LDA Topics:\")\n",
        "print(topics_df)\n"
      ],
      "metadata": {
        "colab": {
          "base_uri": "https://localhost:8080/"
        },
        "id": "a5IrwRe2IVK8",
        "outputId": "a4a99851-8726-466c-d42d-83fff6edc90d"
      },
      "execution_count": 30,
      "outputs": [
        {
          "output_type": "stream",
          "name": "stdout",
          "text": [
            "LDA Topics:\n",
            "           Word 1    Word 2  Word 3    Word 4    Word 5   Word 6    Word 7\n",
            "Topic 1      good    widget    cool    better     great      app       use\n",
            "Topic 2     great       app    good       use       add   crypto     price\n",
            "Topic 3     price    market    need     great      home    token      line\n",
            "Topic 4    crypto      need     app      open   support  problem    reason\n",
            "Topic 5       app      nice  crypto     track       use     easy     great\n",
            "Topic 6       app       use    love      easy      good  amazing     great\n",
            "Topic 7    crypto     great  widget  currency      easy      app      good\n",
            "Topic 8      good       app   great       add    market    price       use\n",
            "Topic 9   amazing     great   track    widget      line     time       app\n",
            "Topic 10    money     great     app      good       use      add    crypto\n",
            "Topic 11  awesome    reason    card      cool     great      app      good\n",
            "Topic 12     coin       use     add      easy      love     card  possible\n",
            "Topic 13     time  exchange  simple    widget      good    price     great\n",
            "Topic 14       im     issue    slow       app    better    great      good\n",
            "Topic 15      way       day  update       cro  currency    money     price\n"
          ]
        }
      ]
    },
    {
      "cell_type": "markdown",
      "source": [
        "II. How does these review topics (i.e. summarized user feedback) relate to the\n",
        "software features (functionalities) you extracted from app description in your\n",
        "assignment?\n",
        "\n",
        "--> User impressions can be gained by examining software features and review subjects. Strengths and drawbacks can be identified by mapping concepts like \"easy to use\" to relevant functionality. Frequecy and sentiment measurements of feedback help make well informed judgments, supporting iterative attempts to improve continuosly and rais customer happiness."
      ],
      "metadata": {
        "id": "1TflyKYkLARC"
      }
    },
    {
      "cell_type": "markdown",
      "source": [
        "III. How does the topics compare to the topics extracted from reviews of each app\n",
        "(SUD + similar/competitor which had review)?\n",
        "\n",
        "--> A comparison of the sujects taken from the reciews of each app (SUD + similar/competitors) provides important information about the differences and similarities between various apps. Through topic analysis, we are able to pinpoint recurrent themes and focal points in each app's user reviews. By contrasting the features and functions of the app, we may gain insight into how consumers view and utilize them as well as identiy their advantages and disadvantages. It also makes benchmarking against rival apps possible, revealing areas in which an app performs better or worse than its competitors. In general, this analysis helps to improve user experiences by identiying trends in feedback and improving app development methods."
      ],
      "metadata": {
        "id": "37RJTwi8MFM3"
      }
    },
    {
      "cell_type": "markdown",
      "source": [
        "IV. We would need to trace each review to a topic for better understanding the details\n",
        "of the user feedback. Retrieve the topic for each review of your ASSIGNED APP.\n",
        "This should be done by finding the topic that has the highest percentage\n",
        "contribution in that Review"
      ],
      "metadata": {
        "id": "qzwR1XrqM7xZ"
      }
    },
    {
      "cell_type": "code",
      "source": [
        "import pandas as pd\n",
        "from sklearn.feature_extraction.text import CountVectorizer\n",
        "from sklearn.decomposition import LatentDirichletAllocation\n",
        "from nltk.corpus import stopwords\n",
        "from nltk.tokenize import word_tokenize\n",
        "from nltk.stem import WordNetLemmatizer\n",
        "import string\n",
        "import re\n",
        "import numpy as np"
      ],
      "metadata": {
        "id": "hnDpl31MNGw-"
      },
      "execution_count": 25,
      "outputs": []
    },
    {
      "cell_type": "code",
      "source": [
        "# preprocessing my SUD app review\n",
        "def preprocess_review(review):\n",
        "    # following steps to preprocess the reviews\n",
        "    review = review.lower()\n",
        "\n",
        "    review = review.translate(str.maketrans('', '', string.punctuation))\n",
        "\n",
        "    tokens = word_tokenize(review)\n",
        "\n",
        "    stop_words = set(stopwords.words('english'))\n",
        "    filtered_tokens = [word for word in tokens if word not in stop_words]\n",
        "\n",
        "    lemmatizer = WordNetLemmatizer()\n",
        "    lemmatized_tokens = [lemmatizer.lemmatize(word) for word in filtered_tokens]\n",
        "    return lemmatized_tokens\n",
        "\n",
        "# my original app SUD csv file\n",
        "assigned_app_df = pd.read_csv(\"/content/original_reviews.csv\")\n",
        "\n",
        "assigned_app_df['Preprocessed Reviews'].fillna('', inplace=True)\n",
        "\n",
        "assigned_app_df['Tokenized Reviews'] = assigned_app_df['Preprocessed Reviews'].apply(preprocess_review)\n",
        "\n",
        "assigned_app_df['Preprocessed Review'] = assigned_app_df['Tokenized Reviews'].apply(lambda x: ' '.join(x))\n",
        "\n",
        "vectorizer = CountVectorizer(max_df=0.95, min_df=2, stop_words='english')\n",
        "X = vectorizer.fit_transform(assigned_app_df['Preprocessed Review'])\n",
        "\n",
        "# applying LDA\n",
        "lda_model = LatentDirichletAllocation(n_components=15, random_state=42)\n",
        "lda_model.fit(X)\n",
        "\n",
        "topic_distribution = lda_model.transform(X)\n",
        "\n",
        "dominant_topics = np.argmax(topic_distribution, axis=1)\n",
        "\n",
        "assigned_app_df['Dominant Topic'] = dominant_topics + 1  # Topics are 1-indexed\n",
        "assigned_app_df['Percentage Contribution'] = np.max(topic_distribution, axis=1) * 100\n",
        "\n",
        "# displaying\n",
        "print(\"Reviews with Dominant Topics and Percentage Contribution:\")\n",
        "print(assigned_app_df[['Preprocessed Review', 'Dominant Topic', 'Percentage Contribution']])\n"
      ],
      "metadata": {
        "colab": {
          "base_uri": "https://localhost:8080/"
        },
        "id": "D6qLDiVgNpic",
        "outputId": "0a756547-96d6-47ef-8175-3ba164a681e3"
      },
      "execution_count": 26,
      "outputs": [
        {
          "output_type": "stream",
          "name": "stdout",
          "text": [
            "Reviews with Dominant Topics and Percentage Contribution:\n",
            "                                  Preprocessed Review  Dominant Topic  \\\n",
            "0                                                                   1   \n",
            "1             best widget found existing simple point              15   \n",
            "2   wanted widget show price bitcoin source want d...               5   \n",
            "3                                                good               1   \n",
            "4   app worked perfectly year size text icon widge...               5   \n",
            "5           would nice delimitate thousand like 10000               1   \n",
            "6   thank free application could please make chart...               4   \n",
            "7                      please put back refresh button               1   \n",
            "8                             great little tool thank              11   \n",
            "9                                          didnt work              10   \n",
            "10  would give 5 star could get ethereum widget li...               5   \n",
            "11  missing feature last since time widget simple ...               1   \n",
            "12                     update widget freeze every day               5   \n",
            "13                                           accurate               1   \n",
            "14         work amazing would pay pro version feature               6   \n",
            "\n",
            "    Percentage Contribution  \n",
            "0                  6.666667  \n",
            "1                 68.888875  \n",
            "2                 68.888873  \n",
            "3                  6.666667  \n",
            "4                 68.888873  \n",
            "5                  6.666667  \n",
            "6                 68.888880  \n",
            "7                  6.666667  \n",
            "8                 68.888883  \n",
            "9                 53.333320  \n",
            "10                68.888873  \n",
            "11                81.333321  \n",
            "12                53.333319  \n",
            "13                 6.666667  \n",
            "14                68.888878  \n"
          ]
        }
      ]
    },
    {
      "cell_type": "markdown",
      "source": [
        "V. Specify a list of 10 Reviews that you believe developers should take care of with\n",
        "high priority. Discuss your logic for this selection.\n"
      ],
      "metadata": {
        "id": "jCAPtf7Go-na"
      }
    },
    {
      "cell_type": "code",
      "source": [
        "import pandas as pd"
      ],
      "metadata": {
        "id": "3OYrqzt6NL6X"
      },
      "execution_count": 27,
      "outputs": []
    },
    {
      "cell_type": "code",
      "source": [
        "reviews_df = pd.read_csv(\"/content/original_reviews.csv\")\n",
        "\n",
        "# Filtering the SUD app reviews\n",
        "def filter_reviews(review):\n",
        "    # they are divided into two categories 1) critical issues\n",
        "    if 'worthless' in review.lower() or 'avoid' in review.lower() or 'serious issues' in review.lower() or 'crash' in review.lower():\n",
        "        return True\n",
        "    # 2) Users requests for new and important features\n",
        "    elif 'add' in review.lower() and 'token' in review.lower() or 'more options required' in review.lower():\n",
        "        return True\n",
        "    return False\n",
        "\n",
        "# high-priority reviews\n",
        "high_priority_reviews = reviews_df[reviews_df['Original Reviews'].apply(filter_reviews)]\n",
        "\n",
        "if len(high_priority_reviews) < 10:\n",
        "    additional_reviews = reviews_df[~reviews_df.index.isin(high_priority_reviews.index)].head(10 - len(high_priority_reviews))\n",
        "    high_priority_reviews = pd.concat([high_priority_reviews, additional_reviews])\n",
        "\n",
        "print(\"High-Priority Reviews:\")\n",
        "print(high_priority_reviews[['Original Reviews']])\n"
      ],
      "metadata": {
        "colab": {
          "base_uri": "https://localhost:8080/"
        },
        "id": "phDFtzwEryM4",
        "outputId": "b988e3d9-3fda-4647-fe76-0d00bd276e71"
      },
      "execution_count": 28,
      "outputs": [
        {
          "output_type": "stream",
          "name": "stdout",
          "text": [
            "High-Priority Reviews:\n",
            "                                    Original Reviews\n",
            "0                                              عالیه\n",
            "1  Best Widget that I found from all the existing...\n",
            "2  I wanted a widget that just shows me the price...\n",
            "3                                               Good\n",
            "4  This app has worked perfectly for me for years...\n",
            "5  Would be nice to have  to delimitate thousand ...\n",
            "6  Thank you for free application, but could you ...\n",
            "7                 Please put back the refresh button\n",
            "8                       Great little tool Thank you!\n",
            "9                                 Didn't work for me\n"
          ]
        }
      ]
    },
    {
      "cell_type": "markdown",
      "source": [
        "The logic used behind this that reviews indicating dissatisfaction or negative sentiment were given priority with a focus on major issues such as app operational defects. We also marked proposals for additional features, especially ones that suggested adding certain tokens. This method ensures that developers respond to urgent issues and user request, imporving the functionality and user experince of the app."
      ],
      "metadata": {
        "id": "nPOP2G4MxN2x"
      }
    }
  ]
}